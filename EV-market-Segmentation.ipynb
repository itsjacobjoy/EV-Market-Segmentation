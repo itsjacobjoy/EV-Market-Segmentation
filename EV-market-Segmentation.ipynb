{
 "cells": [
  {
   "cell_type": "code",
   "execution_count": 203,
   "metadata": {},
   "outputs": [],
   "source": [
    "import pandas as pd\n",
    "import numpy as np \n",
    "import matplotlib.pyplot as plt \n",
    "import seaborn as sns \n",
    "import plotly.express as px\n",
    "import plotly.io as pio\n",
    "sns.set()\n",
    "from sklearn.model_selection import train_test_split\n",
    "from sklearn.linear_model import LogisticRegression\n",
    "from sklearn.metrics import accuracy_score \n",
    "from sklearn import preprocessing\n",
    "from sklearn.preprocessing import StandardScaler\n",
    "from sklearn.metrics import accuracy_score, f1_score, recall_score, precision_score\n",
    "from sklearn.linear_model import LinearRegression\n",
    "from sklearn.tree import DecisionTreeClassifier\n",
    "from sklearn.ensemble import RandomForestClassifier\n",
    "from sklearn.naive_bayes import GaussianNB\n",
    "from sklearn.svm import SVC\n",
    "\n",
    "\n",
    "import warnings \n",
    "warnings.filterwarnings('ignore')\n"
   ]
  },
  {
   "cell_type": "code",
   "execution_count": 204,
   "metadata": {},
   "outputs": [
    {
     "data": {
      "text/html": [
       "<div>\n",
       "<style scoped>\n",
       "    .dataframe tbody tr th:only-of-type {\n",
       "        vertical-align: middle;\n",
       "    }\n",
       "\n",
       "    .dataframe tbody tr th {\n",
       "        vertical-align: top;\n",
       "    }\n",
       "\n",
       "    .dataframe thead th {\n",
       "        text-align: right;\n",
       "    }\n",
       "</style>\n",
       "<table border=\"1\" class=\"dataframe\">\n",
       "  <thead>\n",
       "    <tr style=\"text-align: right;\">\n",
       "      <th></th>\n",
       "      <th>Brand</th>\n",
       "      <th>Model</th>\n",
       "      <th>AccelSec</th>\n",
       "      <th>TopSpeed_KmH</th>\n",
       "      <th>Range_Km</th>\n",
       "      <th>Efficiency_WhKm</th>\n",
       "      <th>FastCharge_KmH</th>\n",
       "      <th>RapidCharge</th>\n",
       "      <th>PowerTrain</th>\n",
       "      <th>PlugType</th>\n",
       "      <th>BodyStyle</th>\n",
       "      <th>Segment</th>\n",
       "      <th>Seats</th>\n",
       "      <th>PriceEuro</th>\n",
       "    </tr>\n",
       "  </thead>\n",
       "  <tbody>\n",
       "    <tr>\n",
       "      <th>0</th>\n",
       "      <td>Tesla</td>\n",
       "      <td>Model 3 Long Range Dual Motor</td>\n",
       "      <td>4.6</td>\n",
       "      <td>233</td>\n",
       "      <td>450</td>\n",
       "      <td>161</td>\n",
       "      <td>940</td>\n",
       "      <td>Yes</td>\n",
       "      <td>AWD</td>\n",
       "      <td>Type 2 CCS</td>\n",
       "      <td>Sedan</td>\n",
       "      <td>D</td>\n",
       "      <td>5</td>\n",
       "      <td>55480</td>\n",
       "    </tr>\n",
       "    <tr>\n",
       "      <th>1</th>\n",
       "      <td>Volkswagen</td>\n",
       "      <td>ID.3 Pure</td>\n",
       "      <td>10.0</td>\n",
       "      <td>160</td>\n",
       "      <td>270</td>\n",
       "      <td>167</td>\n",
       "      <td>250</td>\n",
       "      <td>Yes</td>\n",
       "      <td>RWD</td>\n",
       "      <td>Type 2 CCS</td>\n",
       "      <td>Hatchback</td>\n",
       "      <td>C</td>\n",
       "      <td>5</td>\n",
       "      <td>30000</td>\n",
       "    </tr>\n",
       "    <tr>\n",
       "      <th>2</th>\n",
       "      <td>Polestar</td>\n",
       "      <td>2</td>\n",
       "      <td>4.7</td>\n",
       "      <td>210</td>\n",
       "      <td>400</td>\n",
       "      <td>181</td>\n",
       "      <td>620</td>\n",
       "      <td>Yes</td>\n",
       "      <td>AWD</td>\n",
       "      <td>Type 2 CCS</td>\n",
       "      <td>Liftback</td>\n",
       "      <td>D</td>\n",
       "      <td>5</td>\n",
       "      <td>56440</td>\n",
       "    </tr>\n",
       "    <tr>\n",
       "      <th>3</th>\n",
       "      <td>BMW</td>\n",
       "      <td>iX3</td>\n",
       "      <td>6.8</td>\n",
       "      <td>180</td>\n",
       "      <td>360</td>\n",
       "      <td>206</td>\n",
       "      <td>560</td>\n",
       "      <td>Yes</td>\n",
       "      <td>RWD</td>\n",
       "      <td>Type 2 CCS</td>\n",
       "      <td>SUV</td>\n",
       "      <td>D</td>\n",
       "      <td>5</td>\n",
       "      <td>68040</td>\n",
       "    </tr>\n",
       "    <tr>\n",
       "      <th>4</th>\n",
       "      <td>Honda</td>\n",
       "      <td>e</td>\n",
       "      <td>9.5</td>\n",
       "      <td>145</td>\n",
       "      <td>170</td>\n",
       "      <td>168</td>\n",
       "      <td>190</td>\n",
       "      <td>Yes</td>\n",
       "      <td>RWD</td>\n",
       "      <td>Type 2 CCS</td>\n",
       "      <td>Hatchback</td>\n",
       "      <td>B</td>\n",
       "      <td>4</td>\n",
       "      <td>32997</td>\n",
       "    </tr>\n",
       "    <tr>\n",
       "      <th>...</th>\n",
       "      <td>...</td>\n",
       "      <td>...</td>\n",
       "      <td>...</td>\n",
       "      <td>...</td>\n",
       "      <td>...</td>\n",
       "      <td>...</td>\n",
       "      <td>...</td>\n",
       "      <td>...</td>\n",
       "      <td>...</td>\n",
       "      <td>...</td>\n",
       "      <td>...</td>\n",
       "      <td>...</td>\n",
       "      <td>...</td>\n",
       "      <td>...</td>\n",
       "    </tr>\n",
       "    <tr>\n",
       "      <th>98</th>\n",
       "      <td>Nissan</td>\n",
       "      <td>Ariya 63kWh</td>\n",
       "      <td>7.5</td>\n",
       "      <td>160</td>\n",
       "      <td>330</td>\n",
       "      <td>191</td>\n",
       "      <td>440</td>\n",
       "      <td>Yes</td>\n",
       "      <td>FWD</td>\n",
       "      <td>Type 2 CCS</td>\n",
       "      <td>Hatchback</td>\n",
       "      <td>C</td>\n",
       "      <td>5</td>\n",
       "      <td>45000</td>\n",
       "    </tr>\n",
       "    <tr>\n",
       "      <th>99</th>\n",
       "      <td>Audi</td>\n",
       "      <td>e-tron S Sportback 55 quattro</td>\n",
       "      <td>4.5</td>\n",
       "      <td>210</td>\n",
       "      <td>335</td>\n",
       "      <td>258</td>\n",
       "      <td>540</td>\n",
       "      <td>Yes</td>\n",
       "      <td>AWD</td>\n",
       "      <td>Type 2 CCS</td>\n",
       "      <td>SUV</td>\n",
       "      <td>E</td>\n",
       "      <td>5</td>\n",
       "      <td>96050</td>\n",
       "    </tr>\n",
       "    <tr>\n",
       "      <th>100</th>\n",
       "      <td>Nissan</td>\n",
       "      <td>Ariya e-4ORCE 63kWh</td>\n",
       "      <td>5.9</td>\n",
       "      <td>200</td>\n",
       "      <td>325</td>\n",
       "      <td>194</td>\n",
       "      <td>440</td>\n",
       "      <td>Yes</td>\n",
       "      <td>AWD</td>\n",
       "      <td>Type 2 CCS</td>\n",
       "      <td>Hatchback</td>\n",
       "      <td>C</td>\n",
       "      <td>5</td>\n",
       "      <td>50000</td>\n",
       "    </tr>\n",
       "    <tr>\n",
       "      <th>101</th>\n",
       "      <td>Nissan</td>\n",
       "      <td>Ariya e-4ORCE 87kWh Performance</td>\n",
       "      <td>5.1</td>\n",
       "      <td>200</td>\n",
       "      <td>375</td>\n",
       "      <td>232</td>\n",
       "      <td>450</td>\n",
       "      <td>Yes</td>\n",
       "      <td>AWD</td>\n",
       "      <td>Type 2 CCS</td>\n",
       "      <td>Hatchback</td>\n",
       "      <td>C</td>\n",
       "      <td>5</td>\n",
       "      <td>65000</td>\n",
       "    </tr>\n",
       "    <tr>\n",
       "      <th>102</th>\n",
       "      <td>Byton</td>\n",
       "      <td>M-Byte 95 kWh 2WD</td>\n",
       "      <td>7.5</td>\n",
       "      <td>190</td>\n",
       "      <td>400</td>\n",
       "      <td>238</td>\n",
       "      <td>480</td>\n",
       "      <td>Yes</td>\n",
       "      <td>AWD</td>\n",
       "      <td>Type 2 CCS</td>\n",
       "      <td>SUV</td>\n",
       "      <td>E</td>\n",
       "      <td>5</td>\n",
       "      <td>62000</td>\n",
       "    </tr>\n",
       "  </tbody>\n",
       "</table>\n",
       "<p>103 rows × 14 columns</p>\n",
       "</div>"
      ],
      "text/plain": [
       "           Brand                            Model  AccelSec  TopSpeed_KmH  \\\n",
       "0         Tesla     Model 3 Long Range Dual Motor       4.6           233   \n",
       "1    Volkswagen                         ID.3 Pure      10.0           160   \n",
       "2      Polestar                                 2       4.7           210   \n",
       "3           BMW                              iX3        6.8           180   \n",
       "4         Honda                                e        9.5           145   \n",
       "..           ...                              ...       ...           ...   \n",
       "98       Nissan                       Ariya 63kWh       7.5           160   \n",
       "99         Audi     e-tron S Sportback 55 quattro       4.5           210   \n",
       "100      Nissan               Ariya e-4ORCE 63kWh       5.9           200   \n",
       "101      Nissan   Ariya e-4ORCE 87kWh Performance       5.1           200   \n",
       "102       Byton                 M-Byte 95 kWh 2WD       7.5           190   \n",
       "\n",
       "     Range_Km  Efficiency_WhKm FastCharge_KmH RapidCharge PowerTrain  \\\n",
       "0         450              161            940         Yes        AWD   \n",
       "1         270              167            250         Yes        RWD   \n",
       "2         400              181            620         Yes        AWD   \n",
       "3         360              206            560         Yes        RWD   \n",
       "4         170              168            190         Yes        RWD   \n",
       "..        ...              ...            ...         ...        ...   \n",
       "98        330              191            440         Yes        FWD   \n",
       "99        335              258            540         Yes        AWD   \n",
       "100       325              194            440         Yes        AWD   \n",
       "101       375              232            450         Yes        AWD   \n",
       "102       400              238            480         Yes        AWD   \n",
       "\n",
       "       PlugType  BodyStyle Segment  Seats  PriceEuro  \n",
       "0    Type 2 CCS      Sedan       D      5      55480  \n",
       "1    Type 2 CCS  Hatchback       C      5      30000  \n",
       "2    Type 2 CCS   Liftback       D      5      56440  \n",
       "3    Type 2 CCS        SUV       D      5      68040  \n",
       "4    Type 2 CCS  Hatchback       B      4      32997  \n",
       "..          ...        ...     ...    ...        ...  \n",
       "98   Type 2 CCS  Hatchback       C      5      45000  \n",
       "99   Type 2 CCS        SUV       E      5      96050  \n",
       "100  Type 2 CCS  Hatchback       C      5      50000  \n",
       "101  Type 2 CCS  Hatchback       C      5      65000  \n",
       "102  Type 2 CCS        SUV       E      5      62000  \n",
       "\n",
       "[103 rows x 14 columns]"
      ]
     },
     "execution_count": 204,
     "metadata": {},
     "output_type": "execute_result"
    }
   ],
   "source": [
    "df = pd.read_csv(\"ElectricCarData_Clean.csv\")\n",
    "df"
   ]
  },
  {
   "cell_type": "code",
   "execution_count": 205,
   "metadata": {},
   "outputs": [],
   "source": [
    "df['INR'] = df['PriceEuro']*0.08320\n",
    "df['RapidCharge'].replace(to_replace=['No','Yes'],value=[0, 1],inplace=True)"
   ]
  },
  {
   "cell_type": "code",
   "execution_count": 206,
   "metadata": {},
   "outputs": [
    {
     "data": {
      "text/html": [
       "<div>\n",
       "<style scoped>\n",
       "    .dataframe tbody tr th:only-of-type {\n",
       "        vertical-align: middle;\n",
       "    }\n",
       "\n",
       "    .dataframe tbody tr th {\n",
       "        vertical-align: top;\n",
       "    }\n",
       "\n",
       "    .dataframe thead th {\n",
       "        text-align: right;\n",
       "    }\n",
       "</style>\n",
       "<table border=\"1\" class=\"dataframe\">\n",
       "  <thead>\n",
       "    <tr style=\"text-align: right;\">\n",
       "      <th></th>\n",
       "      <th>Brand</th>\n",
       "      <th>Model</th>\n",
       "      <th>AccelSec</th>\n",
       "      <th>TopSpeed_KmH</th>\n",
       "      <th>Range_Km</th>\n",
       "      <th>Efficiency_WhKm</th>\n",
       "      <th>FastCharge_KmH</th>\n",
       "      <th>RapidCharge</th>\n",
       "      <th>PowerTrain</th>\n",
       "      <th>PlugType</th>\n",
       "      <th>BodyStyle</th>\n",
       "      <th>Segment</th>\n",
       "      <th>Seats</th>\n",
       "      <th>PriceEuro</th>\n",
       "      <th>INR</th>\n",
       "    </tr>\n",
       "  </thead>\n",
       "  <tbody>\n",
       "    <tr>\n",
       "      <th>0</th>\n",
       "      <td>Tesla</td>\n",
       "      <td>Model 3 Long Range Dual Motor</td>\n",
       "      <td>4.6</td>\n",
       "      <td>233</td>\n",
       "      <td>450</td>\n",
       "      <td>161</td>\n",
       "      <td>940</td>\n",
       "      <td>1</td>\n",
       "      <td>AWD</td>\n",
       "      <td>Type 2 CCS</td>\n",
       "      <td>Sedan</td>\n",
       "      <td>D</td>\n",
       "      <td>5</td>\n",
       "      <td>55480</td>\n",
       "      <td>4615.9360</td>\n",
       "    </tr>\n",
       "    <tr>\n",
       "      <th>1</th>\n",
       "      <td>Volkswagen</td>\n",
       "      <td>ID.3 Pure</td>\n",
       "      <td>10.0</td>\n",
       "      <td>160</td>\n",
       "      <td>270</td>\n",
       "      <td>167</td>\n",
       "      <td>250</td>\n",
       "      <td>1</td>\n",
       "      <td>RWD</td>\n",
       "      <td>Type 2 CCS</td>\n",
       "      <td>Hatchback</td>\n",
       "      <td>C</td>\n",
       "      <td>5</td>\n",
       "      <td>30000</td>\n",
       "      <td>2496.0000</td>\n",
       "    </tr>\n",
       "    <tr>\n",
       "      <th>2</th>\n",
       "      <td>Polestar</td>\n",
       "      <td>2</td>\n",
       "      <td>4.7</td>\n",
       "      <td>210</td>\n",
       "      <td>400</td>\n",
       "      <td>181</td>\n",
       "      <td>620</td>\n",
       "      <td>1</td>\n",
       "      <td>AWD</td>\n",
       "      <td>Type 2 CCS</td>\n",
       "      <td>Liftback</td>\n",
       "      <td>D</td>\n",
       "      <td>5</td>\n",
       "      <td>56440</td>\n",
       "      <td>4695.8080</td>\n",
       "    </tr>\n",
       "    <tr>\n",
       "      <th>3</th>\n",
       "      <td>BMW</td>\n",
       "      <td>iX3</td>\n",
       "      <td>6.8</td>\n",
       "      <td>180</td>\n",
       "      <td>360</td>\n",
       "      <td>206</td>\n",
       "      <td>560</td>\n",
       "      <td>1</td>\n",
       "      <td>RWD</td>\n",
       "      <td>Type 2 CCS</td>\n",
       "      <td>SUV</td>\n",
       "      <td>D</td>\n",
       "      <td>5</td>\n",
       "      <td>68040</td>\n",
       "      <td>5660.9280</td>\n",
       "    </tr>\n",
       "    <tr>\n",
       "      <th>4</th>\n",
       "      <td>Honda</td>\n",
       "      <td>e</td>\n",
       "      <td>9.5</td>\n",
       "      <td>145</td>\n",
       "      <td>170</td>\n",
       "      <td>168</td>\n",
       "      <td>190</td>\n",
       "      <td>1</td>\n",
       "      <td>RWD</td>\n",
       "      <td>Type 2 CCS</td>\n",
       "      <td>Hatchback</td>\n",
       "      <td>B</td>\n",
       "      <td>4</td>\n",
       "      <td>32997</td>\n",
       "      <td>2745.3504</td>\n",
       "    </tr>\n",
       "  </tbody>\n",
       "</table>\n",
       "</div>"
      ],
      "text/plain": [
       "         Brand                          Model  AccelSec  TopSpeed_KmH  \\\n",
       "0       Tesla   Model 3 Long Range Dual Motor       4.6           233   \n",
       "1  Volkswagen                       ID.3 Pure      10.0           160   \n",
       "2    Polestar                               2       4.7           210   \n",
       "3         BMW                            iX3        6.8           180   \n",
       "4       Honda                              e        9.5           145   \n",
       "\n",
       "   Range_Km  Efficiency_WhKm FastCharge_KmH  RapidCharge PowerTrain  \\\n",
       "0       450              161            940            1        AWD   \n",
       "1       270              167            250            1        RWD   \n",
       "2       400              181            620            1        AWD   \n",
       "3       360              206            560            1        RWD   \n",
       "4       170              168            190            1        RWD   \n",
       "\n",
       "     PlugType  BodyStyle Segment  Seats  PriceEuro        INR  \n",
       "0  Type 2 CCS      Sedan       D      5      55480  4615.9360  \n",
       "1  Type 2 CCS  Hatchback       C      5      30000  2496.0000  \n",
       "2  Type 2 CCS   Liftback       D      5      56440  4695.8080  \n",
       "3  Type 2 CCS        SUV       D      5      68040  5660.9280  \n",
       "4  Type 2 CCS  Hatchback       B      4      32997  2745.3504  "
      ]
     },
     "execution_count": 206,
     "metadata": {},
     "output_type": "execute_result"
    }
   ],
   "source": [
    "df.head()"
   ]
  },
  {
   "cell_type": "code",
   "execution_count": 207,
   "metadata": {},
   "outputs": [
    {
     "data": {
      "text/plain": [
       "(103, 15)"
      ]
     },
     "execution_count": 207,
     "metadata": {},
     "output_type": "execute_result"
    }
   ],
   "source": [
    "df.shape"
   ]
  },
  {
   "cell_type": "code",
   "execution_count": 208,
   "metadata": {},
   "outputs": [
    {
     "data": {
      "text/html": [
       "<div>\n",
       "<style scoped>\n",
       "    .dataframe tbody tr th:only-of-type {\n",
       "        vertical-align: middle;\n",
       "    }\n",
       "\n",
       "    .dataframe tbody tr th {\n",
       "        vertical-align: top;\n",
       "    }\n",
       "\n",
       "    .dataframe thead th {\n",
       "        text-align: right;\n",
       "    }\n",
       "</style>\n",
       "<table border=\"1\" class=\"dataframe\">\n",
       "  <thead>\n",
       "    <tr style=\"text-align: right;\">\n",
       "      <th></th>\n",
       "      <th>AccelSec</th>\n",
       "      <th>TopSpeed_KmH</th>\n",
       "      <th>Range_Km</th>\n",
       "      <th>Efficiency_WhKm</th>\n",
       "      <th>RapidCharge</th>\n",
       "      <th>Seats</th>\n",
       "      <th>PriceEuro</th>\n",
       "      <th>INR</th>\n",
       "    </tr>\n",
       "  </thead>\n",
       "  <tbody>\n",
       "    <tr>\n",
       "      <th>count</th>\n",
       "      <td>103.000000</td>\n",
       "      <td>103.000000</td>\n",
       "      <td>103.000000</td>\n",
       "      <td>103.000000</td>\n",
       "      <td>103.000000</td>\n",
       "      <td>103.000000</td>\n",
       "      <td>103.000000</td>\n",
       "      <td>103.000000</td>\n",
       "    </tr>\n",
       "    <tr>\n",
       "      <th>mean</th>\n",
       "      <td>7.396117</td>\n",
       "      <td>179.194175</td>\n",
       "      <td>338.786408</td>\n",
       "      <td>189.165049</td>\n",
       "      <td>0.951456</td>\n",
       "      <td>4.883495</td>\n",
       "      <td>55811.563107</td>\n",
       "      <td>4643.522050</td>\n",
       "    </tr>\n",
       "    <tr>\n",
       "      <th>std</th>\n",
       "      <td>3.017430</td>\n",
       "      <td>43.573030</td>\n",
       "      <td>126.014444</td>\n",
       "      <td>29.566839</td>\n",
       "      <td>0.215963</td>\n",
       "      <td>0.795834</td>\n",
       "      <td>34134.665280</td>\n",
       "      <td>2840.004151</td>\n",
       "    </tr>\n",
       "    <tr>\n",
       "      <th>min</th>\n",
       "      <td>2.100000</td>\n",
       "      <td>123.000000</td>\n",
       "      <td>95.000000</td>\n",
       "      <td>104.000000</td>\n",
       "      <td>0.000000</td>\n",
       "      <td>2.000000</td>\n",
       "      <td>20129.000000</td>\n",
       "      <td>1674.732800</td>\n",
       "    </tr>\n",
       "    <tr>\n",
       "      <th>25%</th>\n",
       "      <td>5.100000</td>\n",
       "      <td>150.000000</td>\n",
       "      <td>250.000000</td>\n",
       "      <td>168.000000</td>\n",
       "      <td>1.000000</td>\n",
       "      <td>5.000000</td>\n",
       "      <td>34429.500000</td>\n",
       "      <td>2864.534400</td>\n",
       "    </tr>\n",
       "    <tr>\n",
       "      <th>50%</th>\n",
       "      <td>7.300000</td>\n",
       "      <td>160.000000</td>\n",
       "      <td>340.000000</td>\n",
       "      <td>180.000000</td>\n",
       "      <td>1.000000</td>\n",
       "      <td>5.000000</td>\n",
       "      <td>45000.000000</td>\n",
       "      <td>3744.000000</td>\n",
       "    </tr>\n",
       "    <tr>\n",
       "      <th>75%</th>\n",
       "      <td>9.000000</td>\n",
       "      <td>200.000000</td>\n",
       "      <td>400.000000</td>\n",
       "      <td>203.000000</td>\n",
       "      <td>1.000000</td>\n",
       "      <td>5.000000</td>\n",
       "      <td>65000.000000</td>\n",
       "      <td>5408.000000</td>\n",
       "    </tr>\n",
       "    <tr>\n",
       "      <th>max</th>\n",
       "      <td>22.400000</td>\n",
       "      <td>410.000000</td>\n",
       "      <td>970.000000</td>\n",
       "      <td>273.000000</td>\n",
       "      <td>1.000000</td>\n",
       "      <td>7.000000</td>\n",
       "      <td>215000.000000</td>\n",
       "      <td>17888.000000</td>\n",
       "    </tr>\n",
       "  </tbody>\n",
       "</table>\n",
       "</div>"
      ],
      "text/plain": [
       "         AccelSec  TopSpeed_KmH    Range_Km  Efficiency_WhKm  RapidCharge  \\\n",
       "count  103.000000    103.000000  103.000000       103.000000   103.000000   \n",
       "mean     7.396117    179.194175  338.786408       189.165049     0.951456   \n",
       "std      3.017430     43.573030  126.014444        29.566839     0.215963   \n",
       "min      2.100000    123.000000   95.000000       104.000000     0.000000   \n",
       "25%      5.100000    150.000000  250.000000       168.000000     1.000000   \n",
       "50%      7.300000    160.000000  340.000000       180.000000     1.000000   \n",
       "75%      9.000000    200.000000  400.000000       203.000000     1.000000   \n",
       "max     22.400000    410.000000  970.000000       273.000000     1.000000   \n",
       "\n",
       "            Seats      PriceEuro           INR  \n",
       "count  103.000000     103.000000    103.000000  \n",
       "mean     4.883495   55811.563107   4643.522050  \n",
       "std      0.795834   34134.665280   2840.004151  \n",
       "min      2.000000   20129.000000   1674.732800  \n",
       "25%      5.000000   34429.500000   2864.534400  \n",
       "50%      5.000000   45000.000000   3744.000000  \n",
       "75%      5.000000   65000.000000   5408.000000  \n",
       "max      7.000000  215000.000000  17888.000000  "
      ]
     },
     "execution_count": 208,
     "metadata": {},
     "output_type": "execute_result"
    }
   ],
   "source": [
    "df.describe()"
   ]
  },
  {
   "cell_type": "code",
   "execution_count": 209,
   "metadata": {},
   "outputs": [
    {
     "data": {
      "text/plain": [
       "Brand              0\n",
       "Model              0\n",
       "AccelSec           0\n",
       "TopSpeed_KmH       0\n",
       "Range_Km           0\n",
       "Efficiency_WhKm    0\n",
       "FastCharge_KmH     0\n",
       "RapidCharge        0\n",
       "PowerTrain         0\n",
       "PlugType           0\n",
       "BodyStyle          0\n",
       "Segment            0\n",
       "Seats              0\n",
       "PriceEuro          0\n",
       "INR                0\n",
       "dtype: int64"
      ]
     },
     "execution_count": 209,
     "metadata": {},
     "output_type": "execute_result"
    }
   ],
   "source": [
    "df.isnull().sum()"
   ]
  },
  {
   "cell_type": "code",
   "execution_count": 210,
   "metadata": {},
   "outputs": [],
   "source": [
    "#Converting categorical variables to numbers\n",
    "from sklearn.preprocessing import LabelEncoder\n",
    "categorical = LabelEncoder()"
   ]
  },
  {
   "cell_type": "code",
   "execution_count": 211,
   "metadata": {},
   "outputs": [],
   "source": [
    "col = ['RapidCharge','PowerTrain','FastCharge_KmH']\n",
    "df['RapidCharge'] = categorical.fit_transform(df['RapidCharge'])"
   ]
  },
  {
   "cell_type": "code",
   "execution_count": 212,
   "metadata": {},
   "outputs": [
    {
     "data": {
      "text/html": [
       "<div>\n",
       "<style scoped>\n",
       "    .dataframe tbody tr th:only-of-type {\n",
       "        vertical-align: middle;\n",
       "    }\n",
       "\n",
       "    .dataframe tbody tr th {\n",
       "        vertical-align: top;\n",
       "    }\n",
       "\n",
       "    .dataframe thead th {\n",
       "        text-align: right;\n",
       "    }\n",
       "</style>\n",
       "<table border=\"1\" class=\"dataframe\">\n",
       "  <thead>\n",
       "    <tr style=\"text-align: right;\">\n",
       "      <th></th>\n",
       "      <th>Brand</th>\n",
       "      <th>Model</th>\n",
       "      <th>AccelSec</th>\n",
       "      <th>TopSpeed_KmH</th>\n",
       "      <th>Range_Km</th>\n",
       "      <th>Efficiency_WhKm</th>\n",
       "      <th>FastCharge_KmH</th>\n",
       "      <th>RapidCharge</th>\n",
       "      <th>PowerTrain</th>\n",
       "      <th>PlugType</th>\n",
       "      <th>BodyStyle</th>\n",
       "      <th>Segment</th>\n",
       "      <th>Seats</th>\n",
       "      <th>PriceEuro</th>\n",
       "      <th>INR</th>\n",
       "    </tr>\n",
       "  </thead>\n",
       "  <tbody>\n",
       "    <tr>\n",
       "      <th>0</th>\n",
       "      <td>Tesla</td>\n",
       "      <td>Model 3 Long Range Dual Motor</td>\n",
       "      <td>4.6</td>\n",
       "      <td>233</td>\n",
       "      <td>450</td>\n",
       "      <td>161</td>\n",
       "      <td>940</td>\n",
       "      <td>1</td>\n",
       "      <td>AWD</td>\n",
       "      <td>Type 2 CCS</td>\n",
       "      <td>Sedan</td>\n",
       "      <td>D</td>\n",
       "      <td>5</td>\n",
       "      <td>55480</td>\n",
       "      <td>4615.9360</td>\n",
       "    </tr>\n",
       "    <tr>\n",
       "      <th>1</th>\n",
       "      <td>Volkswagen</td>\n",
       "      <td>ID.3 Pure</td>\n",
       "      <td>10.0</td>\n",
       "      <td>160</td>\n",
       "      <td>270</td>\n",
       "      <td>167</td>\n",
       "      <td>250</td>\n",
       "      <td>1</td>\n",
       "      <td>RWD</td>\n",
       "      <td>Type 2 CCS</td>\n",
       "      <td>Hatchback</td>\n",
       "      <td>C</td>\n",
       "      <td>5</td>\n",
       "      <td>30000</td>\n",
       "      <td>2496.0000</td>\n",
       "    </tr>\n",
       "    <tr>\n",
       "      <th>2</th>\n",
       "      <td>Polestar</td>\n",
       "      <td>2</td>\n",
       "      <td>4.7</td>\n",
       "      <td>210</td>\n",
       "      <td>400</td>\n",
       "      <td>181</td>\n",
       "      <td>620</td>\n",
       "      <td>1</td>\n",
       "      <td>AWD</td>\n",
       "      <td>Type 2 CCS</td>\n",
       "      <td>Liftback</td>\n",
       "      <td>D</td>\n",
       "      <td>5</td>\n",
       "      <td>56440</td>\n",
       "      <td>4695.8080</td>\n",
       "    </tr>\n",
       "    <tr>\n",
       "      <th>3</th>\n",
       "      <td>BMW</td>\n",
       "      <td>iX3</td>\n",
       "      <td>6.8</td>\n",
       "      <td>180</td>\n",
       "      <td>360</td>\n",
       "      <td>206</td>\n",
       "      <td>560</td>\n",
       "      <td>1</td>\n",
       "      <td>RWD</td>\n",
       "      <td>Type 2 CCS</td>\n",
       "      <td>SUV</td>\n",
       "      <td>D</td>\n",
       "      <td>5</td>\n",
       "      <td>68040</td>\n",
       "      <td>5660.9280</td>\n",
       "    </tr>\n",
       "    <tr>\n",
       "      <th>4</th>\n",
       "      <td>Honda</td>\n",
       "      <td>e</td>\n",
       "      <td>9.5</td>\n",
       "      <td>145</td>\n",
       "      <td>170</td>\n",
       "      <td>168</td>\n",
       "      <td>190</td>\n",
       "      <td>1</td>\n",
       "      <td>RWD</td>\n",
       "      <td>Type 2 CCS</td>\n",
       "      <td>Hatchback</td>\n",
       "      <td>B</td>\n",
       "      <td>4</td>\n",
       "      <td>32997</td>\n",
       "      <td>2745.3504</td>\n",
       "    </tr>\n",
       "    <tr>\n",
       "      <th>...</th>\n",
       "      <td>...</td>\n",
       "      <td>...</td>\n",
       "      <td>...</td>\n",
       "      <td>...</td>\n",
       "      <td>...</td>\n",
       "      <td>...</td>\n",
       "      <td>...</td>\n",
       "      <td>...</td>\n",
       "      <td>...</td>\n",
       "      <td>...</td>\n",
       "      <td>...</td>\n",
       "      <td>...</td>\n",
       "      <td>...</td>\n",
       "      <td>...</td>\n",
       "      <td>...</td>\n",
       "    </tr>\n",
       "    <tr>\n",
       "      <th>98</th>\n",
       "      <td>Nissan</td>\n",
       "      <td>Ariya 63kWh</td>\n",
       "      <td>7.5</td>\n",
       "      <td>160</td>\n",
       "      <td>330</td>\n",
       "      <td>191</td>\n",
       "      <td>440</td>\n",
       "      <td>1</td>\n",
       "      <td>FWD</td>\n",
       "      <td>Type 2 CCS</td>\n",
       "      <td>Hatchback</td>\n",
       "      <td>C</td>\n",
       "      <td>5</td>\n",
       "      <td>45000</td>\n",
       "      <td>3744.0000</td>\n",
       "    </tr>\n",
       "    <tr>\n",
       "      <th>99</th>\n",
       "      <td>Audi</td>\n",
       "      <td>e-tron S Sportback 55 quattro</td>\n",
       "      <td>4.5</td>\n",
       "      <td>210</td>\n",
       "      <td>335</td>\n",
       "      <td>258</td>\n",
       "      <td>540</td>\n",
       "      <td>1</td>\n",
       "      <td>AWD</td>\n",
       "      <td>Type 2 CCS</td>\n",
       "      <td>SUV</td>\n",
       "      <td>E</td>\n",
       "      <td>5</td>\n",
       "      <td>96050</td>\n",
       "      <td>7991.3600</td>\n",
       "    </tr>\n",
       "    <tr>\n",
       "      <th>100</th>\n",
       "      <td>Nissan</td>\n",
       "      <td>Ariya e-4ORCE 63kWh</td>\n",
       "      <td>5.9</td>\n",
       "      <td>200</td>\n",
       "      <td>325</td>\n",
       "      <td>194</td>\n",
       "      <td>440</td>\n",
       "      <td>1</td>\n",
       "      <td>AWD</td>\n",
       "      <td>Type 2 CCS</td>\n",
       "      <td>Hatchback</td>\n",
       "      <td>C</td>\n",
       "      <td>5</td>\n",
       "      <td>50000</td>\n",
       "      <td>4160.0000</td>\n",
       "    </tr>\n",
       "    <tr>\n",
       "      <th>101</th>\n",
       "      <td>Nissan</td>\n",
       "      <td>Ariya e-4ORCE 87kWh Performance</td>\n",
       "      <td>5.1</td>\n",
       "      <td>200</td>\n",
       "      <td>375</td>\n",
       "      <td>232</td>\n",
       "      <td>450</td>\n",
       "      <td>1</td>\n",
       "      <td>AWD</td>\n",
       "      <td>Type 2 CCS</td>\n",
       "      <td>Hatchback</td>\n",
       "      <td>C</td>\n",
       "      <td>5</td>\n",
       "      <td>65000</td>\n",
       "      <td>5408.0000</td>\n",
       "    </tr>\n",
       "    <tr>\n",
       "      <th>102</th>\n",
       "      <td>Byton</td>\n",
       "      <td>M-Byte 95 kWh 2WD</td>\n",
       "      <td>7.5</td>\n",
       "      <td>190</td>\n",
       "      <td>400</td>\n",
       "      <td>238</td>\n",
       "      <td>480</td>\n",
       "      <td>1</td>\n",
       "      <td>AWD</td>\n",
       "      <td>Type 2 CCS</td>\n",
       "      <td>SUV</td>\n",
       "      <td>E</td>\n",
       "      <td>5</td>\n",
       "      <td>62000</td>\n",
       "      <td>5158.4000</td>\n",
       "    </tr>\n",
       "  </tbody>\n",
       "</table>\n",
       "<p>103 rows × 15 columns</p>\n",
       "</div>"
      ],
      "text/plain": [
       "           Brand                            Model  AccelSec  TopSpeed_KmH  \\\n",
       "0         Tesla     Model 3 Long Range Dual Motor       4.6           233   \n",
       "1    Volkswagen                         ID.3 Pure      10.0           160   \n",
       "2      Polestar                                 2       4.7           210   \n",
       "3           BMW                              iX3        6.8           180   \n",
       "4         Honda                                e        9.5           145   \n",
       "..           ...                              ...       ...           ...   \n",
       "98       Nissan                       Ariya 63kWh       7.5           160   \n",
       "99         Audi     e-tron S Sportback 55 quattro       4.5           210   \n",
       "100      Nissan               Ariya e-4ORCE 63kWh       5.9           200   \n",
       "101      Nissan   Ariya e-4ORCE 87kWh Performance       5.1           200   \n",
       "102       Byton                 M-Byte 95 kWh 2WD       7.5           190   \n",
       "\n",
       "     Range_Km  Efficiency_WhKm FastCharge_KmH  RapidCharge PowerTrain  \\\n",
       "0         450              161            940            1        AWD   \n",
       "1         270              167            250            1        RWD   \n",
       "2         400              181            620            1        AWD   \n",
       "3         360              206            560            1        RWD   \n",
       "4         170              168            190            1        RWD   \n",
       "..        ...              ...            ...          ...        ...   \n",
       "98        330              191            440            1        FWD   \n",
       "99        335              258            540            1        AWD   \n",
       "100       325              194            440            1        AWD   \n",
       "101       375              232            450            1        AWD   \n",
       "102       400              238            480            1        AWD   \n",
       "\n",
       "       PlugType  BodyStyle Segment  Seats  PriceEuro        INR  \n",
       "0    Type 2 CCS      Sedan       D      5      55480  4615.9360  \n",
       "1    Type 2 CCS  Hatchback       C      5      30000  2496.0000  \n",
       "2    Type 2 CCS   Liftback       D      5      56440  4695.8080  \n",
       "3    Type 2 CCS        SUV       D      5      68040  5660.9280  \n",
       "4    Type 2 CCS  Hatchback       B      4      32997  2745.3504  \n",
       "..          ...        ...     ...    ...        ...        ...  \n",
       "98   Type 2 CCS  Hatchback       C      5      45000  3744.0000  \n",
       "99   Type 2 CCS        SUV       E      5      96050  7991.3600  \n",
       "100  Type 2 CCS  Hatchback       C      5      50000  4160.0000  \n",
       "101  Type 2 CCS  Hatchback       C      5      65000  5408.0000  \n",
       "102  Type 2 CCS        SUV       E      5      62000  5158.4000  \n",
       "\n",
       "[103 rows x 15 columns]"
      ]
     },
     "execution_count": 212,
     "metadata": {},
     "output_type": "execute_result"
    }
   ],
   "source": [
    "df"
   ]
  },
  {
   "cell_type": "code",
   "execution_count": 213,
   "metadata": {},
   "outputs": [],
   "source": [
    "range = np.arange(1,104)"
   ]
  },
  {
   "cell_type": "markdown",
   "metadata": {},
   "source": [
    "# Visualizing the number of brands that produce EVs"
   ]
  },
  {
   "cell_type": "code",
   "execution_count": 214,
   "metadata": {},
   "outputs": [
    {
     "data": {
      "text/plain": [
       "Text(0, 0.5, 'Frequency')"
      ]
     },
     "execution_count": 214,
     "metadata": {},
     "output_type": "execute_result"
    },
    {
     "data": {
      "image/png": "[encoded data removed]",
      "text/plain": [
       "<Figure size 2160x720 with 1 Axes>"
      ]
     },
     "metadata": {},
     "output_type": "display_data"
    }
   ],
   "source": [
    "brands = plt.figure(figsize=(30,10))\n",
    "sns.barplot(x='Brand',y=range,data=df)\n",
    "plt.grid(axis='y')\n",
    "plt.title(\"Brands Producing EVs\")\n",
    "plt.xlabel(\"Brands\")\n",
    "plt.ylabel(\"Frequency\")"
   ]
  },
  {
   "cell_type": "markdown",
   "metadata": {},
   "source": [
    "# Which car has top speed"
   ]
  },
  {
   "cell_type": "code",
   "execution_count": 215,
   "metadata": {},
   "outputs": [
    {
     "data": {
      "application/vnd.plotly.v1+json": {
       "config": {
        "plotlyServerURL": "https://plot.ly"
       },
       "data": [
        {
         "alignmentgroup": "True",
         "hovertemplate": "Brand=%{x}<br>TopSpeed_KmH=%{y}<extra></extra>",
         "legendgroup": "Tesla ",
         "marker": {
          "color": "#636efa",
          "pattern": {
           "shape": ""
          }
         },
         "name": "Tesla ",
         "offsetgroup": "Tesla ",
         "orientation": "v",
         "showlegend": true,
         "textposition": "auto",
         "type": "bar",
         "x": [
          "Tesla ",
          "Tesla ",
          "Tesla ",
          "Tesla ",
          "Tesla ",
          "Tesla ",
          "Tesla ",
          "Tesla ",
          "Tesla ",
          "Tesla ",
          "Tesla ",
          "Tesla ",
          "Tesla "
         ],
         "xaxis": "x",
         "y": [
          233,
          225,
          217,
          261,
          210,
          250,
          410,
          250,
          261,
          241,
          190,
          250,
          180
         ],
         "yaxis": "y"
        },
        {
         "alignmentgroup": "True",
         "hovertemplate": "Brand=%{x}<br>TopSpeed_KmH=%{y}<extra></extra>",
         "legendgroup": "Volkswagen ",
         "marker": {
          "color": "#EF553B",
          "pattern": {
           "shape": ""
          }
         },
         "name": "Volkswagen ",
         "offsetgroup": "Volkswagen ",
         "orientation": "v",
         "showlegend": true,
         "textposition": "auto",
         "type": "bar",
         "x": [
          "Volkswagen ",
          "Volkswagen ",
          "Volkswagen ",
          "Volkswagen ",
          "Volkswagen ",
          "Volkswagen ",
          "Volkswagen ",
          "Volkswagen "
         ],
         "xaxis": "x",
         "y": [
          160,
          150,
          160,
          130,
          160,
          160,
          160,
          160
         ],
         "yaxis": "y"
        },
        {
         "alignmentgroup": "True",
         "hovertemplate": "Brand=%{x}<br>TopSpeed_KmH=%{y}<extra></extra>",
         "legendgroup": "Polestar ",
         "marker": {
          "color": "#00cc96",
          "pattern": {
           "shape": ""
          }
         },
         "name": "Polestar ",
         "offsetgroup": "Polestar ",
         "orientation": "v",
         "showlegend": true,
         "textposition": "auto",
         "type": "bar",
         "x": [
          "Polestar "
         ],
         "xaxis": "x",
         "y": [
          210
         ],
         "yaxis": "y"
        },
        {
         "alignmentgroup": "True",
         "hovertemplate": "Brand=%{x}<br>TopSpeed_KmH=%{y}<extra></extra>",
         "legendgroup": "BMW ",
         "marker": {
          "color": "#ab63fa",
          "pattern": {
           "shape": ""
          }
         },
         "name": "BMW ",
         "offsetgroup": "BMW ",
         "orientation": "v",
         "showlegend": true,
         "textposition": "auto",
         "type": "bar",
         "x": [
          "BMW ",
          "BMW ",
          "BMW ",
          "BMW "
         ],
         "xaxis": "x",
         "y": [
          180,
          200,
          150,
          160
         ],
         "yaxis": "y"
        },
        {
         "alignmentgroup": "True",
         "hovertemplate": "Brand=%{x}<br>TopSpeed_KmH=%{y}<extra></extra>",
         "legendgroup": "Honda ",
         "marker": {
          "color": "#FFA15A",
          "pattern": {
           "shape": ""
          }
         },
         "name": "Honda ",
         "offsetgroup": "Honda ",
         "orientation": "v",
         "showlegend": true,
         "textposition": "auto",
         "type": "bar",
         "x": [
          "Honda ",
          "Honda "
         ],
         "xaxis": "x",
         "y": [
          145,
          145
         ],
         "yaxis": "y"
        },
        {
         "alignmentgroup": "True",
         "hovertemplate": "Brand=%{x}<br>TopSpeed_KmH=%{y}<extra></extra>",
         "legendgroup": "Lucid ",
         "marker": {
          "color": "#19d3f3",
          "pattern": {
           "shape": ""
          }
         },
         "name": "Lucid ",
         "offsetgroup": "Lucid ",
         "orientation": "v",
         "showlegend": true,
         "textposition": "auto",
         "type": "bar",
         "x": [
          "Lucid "
         ],
         "xaxis": "x",
         "y": [
          250
         ],
         "yaxis": "y"
        },
        {
         "alignmentgroup": "True",
         "hovertemplate": "Brand=%{x}<br>TopSpeed_KmH=%{y}<extra></extra>",
         "legendgroup": "Peugeot ",
         "marker": {
          "color": "#FF6692",
          "pattern": {
           "shape": ""
          }
         },
         "name": "Peugeot ",
         "offsetgroup": "Peugeot ",
         "orientation": "v",
         "showlegend": true,
         "textposition": "auto",
         "type": "bar",
         "x": [
          "Peugeot ",
          "Peugeot "
         ],
         "xaxis": "x",
         "y": [
          150,
          150
         ],
         "yaxis": "y"
        },
        {
         "alignmentgroup": "True",
         "hovertemplate": "Brand=%{x}<br>TopSpeed_KmH=%{y}<extra></extra>",
         "legendgroup": "Audi ",
         "marker": {
          "color": "#B6E880",
          "pattern": {
           "shape": ""
          }
         },
         "name": "Audi ",
         "offsetgroup": "Audi ",
         "orientation": "v",
         "showlegend": true,
         "textposition": "auto",
         "type": "bar",
         "x": [
          "Audi ",
          "Audi ",
          "Audi ",
          "Audi ",
          "Audi ",
          "Audi ",
          "Audi ",
          "Audi ",
          "Audi "
         ],
         "xaxis": "x",
         "y": [
          180,
          240,
          190,
          200,
          200,
          180,
          190,
          210,
          210
         ],
         "yaxis": "y"
        },
        {
         "alignmentgroup": "True",
         "hovertemplate": "Brand=%{x}<br>TopSpeed_KmH=%{y}<extra></extra>",
         "legendgroup": "Mercedes ",
         "marker": {
          "color": "#FF97FF",
          "pattern": {
           "shape": ""
          }
         },
         "name": "Mercedes ",
         "offsetgroup": "Mercedes ",
         "orientation": "v",
         "showlegend": true,
         "textposition": "auto",
         "type": "bar",
         "x": [
          "Mercedes ",
          "Mercedes ",
          "Mercedes "
         ],
         "xaxis": "x",
         "y": [
          180,
          200,
          140
         ],
         "yaxis": "y"
        },
        {
         "alignmentgroup": "True",
         "hovertemplate": "Brand=%{x}<br>TopSpeed_KmH=%{y}<extra></extra>",
         "legendgroup": "Nissan ",
         "marker": {
          "color": "#FECB52",
          "pattern": {
           "shape": ""
          }
         },
         "name": "Nissan ",
         "offsetgroup": "Nissan ",
         "orientation": "v",
         "showlegend": true,
         "textposition": "auto",
         "type": "bar",
         "x": [
          "Nissan ",
          "Nissan ",
          "Nissan ",
          "Nissan ",
          "Nissan ",
          "Nissan ",
          "Nissan ",
          "Nissan "
         ],
         "xaxis": "x",
         "y": [
          144,
          157,
          160,
          123,
          200,
          160,
          200,
          200
         ],
         "yaxis": "y"
        },
        {
         "alignmentgroup": "True",
         "hovertemplate": "Brand=%{x}<br>TopSpeed_KmH=%{y}<extra></extra>",
         "legendgroup": "Hyundai ",
         "marker": {
          "color": "#636efa",
          "pattern": {
           "shape": ""
          }
         },
         "name": "Hyundai ",
         "offsetgroup": "Hyundai ",
         "orientation": "v",
         "showlegend": true,
         "textposition": "auto",
         "type": "bar",
         "x": [
          "Hyundai ",
          "Hyundai ",
          "Hyundai "
         ],
         "xaxis": "x",
         "y": [
          167,
          165,
          155
         ],
         "yaxis": "y"
        },
        {
         "alignmentgroup": "True",
         "hovertemplate": "Brand=%{x}<br>TopSpeed_KmH=%{y}<extra></extra>",
         "legendgroup": "Porsche ",
         "marker": {
          "color": "#EF553B",
          "pattern": {
           "shape": ""
          }
         },
         "name": "Porsche ",
         "offsetgroup": "Porsche ",
         "orientation": "v",
         "showlegend": true,
         "textposition": "auto",
         "type": "bar",
         "x": [
          "Porsche ",
          "Porsche ",
          "Porsche ",
          "Porsche ",
          "Porsche "
         ],
         "xaxis": "x",
         "y": [
          260,
          250,
          250,
          250,
          260
         ],
         "yaxis": "y"
        },
        {
         "alignmentgroup": "True",
         "hovertemplate": "Brand=%{x}<br>TopSpeed_KmH=%{y}<extra></extra>",
         "legendgroup": "MG ",
         "marker": {
          "color": "#00cc96",
          "pattern": {
           "shape": ""
          }
         },
         "name": "MG ",
         "offsetgroup": "MG ",
         "orientation": "v",
         "showlegend": true,
         "textposition": "auto",
         "type": "bar",
         "x": [
          "MG "
         ],
         "xaxis": "x",
         "y": [
          140
         ],
         "yaxis": "y"
        },
        {
         "alignmentgroup": "True",
         "hovertemplate": "Brand=%{x}<br>TopSpeed_KmH=%{y}<extra></extra>",
         "legendgroup": "Mini ",
         "marker": {
          "color": "#ab63fa",
          "pattern": {
           "shape": ""
          }
         },
         "name": "Mini ",
         "offsetgroup": "Mini ",
         "orientation": "v",
         "showlegend": true,
         "textposition": "auto",
         "type": "bar",
         "x": [
          "Mini "
         ],
         "xaxis": "x",
         "y": [
          150
         ],
         "yaxis": "y"
        },
        {
         "alignmentgroup": "True",
         "hovertemplate": "Brand=%{x}<br>TopSpeed_KmH=%{y}<extra></extra>",
         "legendgroup": "Opel ",
         "marker": {
          "color": "#FFA15A",
          "pattern": {
           "shape": ""
          }
         },
         "name": "Opel ",
         "offsetgroup": "Opel ",
         "orientation": "v",
         "showlegend": true,
         "textposition": "auto",
         "type": "bar",
         "x": [
          "Opel ",
          "Opel ",
          "Opel "
         ],
         "xaxis": "x",
         "y": [
          150,
          150,
          150
         ],
         "yaxis": "y"
        },
        {
         "alignmentgroup": "True",
         "hovertemplate": "Brand=%{x}<br>TopSpeed_KmH=%{y}<extra></extra>",
         "legendgroup": "Skoda ",
         "marker": {
          "color": "#19d3f3",
          "pattern": {
           "shape": ""
          }
         },
         "name": "Skoda ",
         "offsetgroup": "Skoda ",
         "orientation": "v",
         "showlegend": true,
         "textposition": "auto",
         "type": "bar",
         "x": [
          "Skoda ",
          "Skoda ",
          "Skoda ",
          "Skoda ",
          "Skoda ",
          "Skoda "
         ],
         "xaxis": "x",
         "y": [
          160,
          130,
          160,
          160,
          180,
          160
         ],
         "yaxis": "y"
        },
        {
         "alignmentgroup": "True",
         "hovertemplate": "Brand=%{x}<br>TopSpeed_KmH=%{y}<extra></extra>",
         "legendgroup": "Volvo ",
         "marker": {
          "color": "#FF6692",
          "pattern": {
           "shape": ""
          }
         },
         "name": "Volvo ",
         "offsetgroup": "Volvo ",
         "orientation": "v",
         "showlegend": true,
         "textposition": "auto",
         "type": "bar",
         "x": [
          "Volvo "
         ],
         "xaxis": "x",
         "y": [
          180
         ],
         "yaxis": "y"
        },
        {
         "alignmentgroup": "True",
         "hovertemplate": "Brand=%{x}<br>TopSpeed_KmH=%{y}<extra></extra>",
         "legendgroup": "Kia ",
         "marker": {
          "color": "#B6E880",
          "pattern": {
           "shape": ""
          }
         },
         "name": "Kia ",
         "offsetgroup": "Kia ",
         "orientation": "v",
         "showlegend": true,
         "textposition": "auto",
         "type": "bar",
         "x": [
          "Kia ",
          "Kia ",
          "Kia ",
          "Kia ",
          "Kia "
         ],
         "xaxis": "x",
         "y": [
          167,
          167,
          155,
          167,
          157
         ],
         "yaxis": "y"
        },
        {
         "alignmentgroup": "True",
         "hovertemplate": "Brand=%{x}<br>TopSpeed_KmH=%{y}<extra></extra>",
         "legendgroup": "Renault ",
         "marker": {
          "color": "#FF97FF",
          "pattern": {
           "shape": ""
          }
         },
         "name": "Renault ",
         "offsetgroup": "Renault ",
         "orientation": "v",
         "showlegend": true,
         "textposition": "auto",
         "type": "bar",
         "x": [
          "Renault ",
          "Renault ",
          "Renault ",
          "Renault ",
          "Renault "
         ],
         "xaxis": "x",
         "y": [
          135,
          140,
          135,
          135,
          130
         ],
         "yaxis": "y"
        },
        {
         "alignmentgroup": "True",
         "hovertemplate": "Brand=%{x}<br>TopSpeed_KmH=%{y}<extra></extra>",
         "legendgroup": "Mazda ",
         "marker": {
          "color": "#FECB52",
          "pattern": {
           "shape": ""
          }
         },
         "name": "Mazda ",
         "offsetgroup": "Mazda ",
         "orientation": "v",
         "showlegend": true,
         "textposition": "auto",
         "type": "bar",
         "x": [
          "Mazda "
         ],
         "xaxis": "x",
         "y": [
          150
         ],
         "yaxis": "y"
        },
        {
         "alignmentgroup": "True",
         "hovertemplate": "Brand=%{x}<br>TopSpeed_KmH=%{y}<extra></extra>",
         "legendgroup": "Lexus ",
         "marker": {
          "color": "#636efa",
          "pattern": {
           "shape": ""
          }
         },
         "name": "Lexus ",
         "offsetgroup": "Lexus ",
         "orientation": "v",
         "showlegend": true,
         "textposition": "auto",
         "type": "bar",
         "x": [
          "Lexus "
         ],
         "xaxis": "x",
         "y": [
          160
         ],
         "yaxis": "y"
        },
        {
         "alignmentgroup": "True",
         "hovertemplate": "Brand=%{x}<br>TopSpeed_KmH=%{y}<extra></extra>",
         "legendgroup": "CUPRA ",
         "marker": {
          "color": "#EF553B",
          "pattern": {
           "shape": ""
          }
         },
         "name": "CUPRA ",
         "offsetgroup": "CUPRA ",
         "orientation": "v",
         "showlegend": true,
         "textposition": "auto",
         "type": "bar",
         "x": [
          "CUPRA "
         ],
         "xaxis": "x",
         "y": [
          160
         ],
         "yaxis": "y"
        },
        {
         "alignmentgroup": "True",
         "hovertemplate": "Brand=%{x}<br>TopSpeed_KmH=%{y}<extra></extra>",
         "legendgroup": "SEAT ",
         "marker": {
          "color": "#00cc96",
          "pattern": {
           "shape": ""
          }
         },
         "name": "SEAT ",
         "offsetgroup": "SEAT ",
         "orientation": "v",
         "showlegend": true,
         "textposition": "auto",
         "type": "bar",
         "x": [
          "SEAT "
         ],
         "xaxis": "x",
         "y": [
          130
         ],
         "yaxis": "y"
        },
        {
         "alignmentgroup": "True",
         "hovertemplate": "Brand=%{x}<br>TopSpeed_KmH=%{y}<extra></extra>",
         "legendgroup": "Lightyear ",
         "marker": {
          "color": "#ab63fa",
          "pattern": {
           "shape": ""
          }
         },
         "name": "Lightyear ",
         "offsetgroup": "Lightyear ",
         "orientation": "v",
         "showlegend": true,
         "textposition": "auto",
         "type": "bar",
         "x": [
          "Lightyear "
         ],
         "xaxis": "x",
         "y": [
          150
         ],
         "yaxis": "y"
        },
        {
         "alignmentgroup": "True",
         "hovertemplate": "Brand=%{x}<br>TopSpeed_KmH=%{y}<extra></extra>",
         "legendgroup": "Aiways ",
         "marker": {
          "color": "#FFA15A",
          "pattern": {
           "shape": ""
          }
         },
         "name": "Aiways ",
         "offsetgroup": "Aiways ",
         "orientation": "v",
         "showlegend": true,
         "textposition": "auto",
         "type": "bar",
         "x": [
          "Aiways "
         ],
         "xaxis": "x",
         "y": [
          150
         ],
         "yaxis": "y"
        },
        {
         "alignmentgroup": "True",
         "hovertemplate": "Brand=%{x}<br>TopSpeed_KmH=%{y}<extra></extra>",
         "legendgroup": "DS ",
         "marker": {
          "color": "#19d3f3",
          "pattern": {
           "shape": ""
          }
         },
         "name": "DS ",
         "offsetgroup": "DS ",
         "orientation": "v",
         "showlegend": true,
         "textposition": "auto",
         "type": "bar",
         "x": [
          "DS "
         ],
         "xaxis": "x",
         "y": [
          150
         ],
         "yaxis": "y"
        },
        {
         "alignmentgroup": "True",
         "hovertemplate": "Brand=%{x}<br>TopSpeed_KmH=%{y}<extra></extra>",
         "legendgroup": "Citroen ",
         "marker": {
          "color": "#FF6692",
          "pattern": {
           "shape": ""
          }
         },
         "name": "Citroen ",
         "offsetgroup": "Citroen ",
         "orientation": "v",
         "showlegend": true,
         "textposition": "auto",
         "type": "bar",
         "x": [
          "Citroen "
         ],
         "xaxis": "x",
         "y": [
          150
         ],
         "yaxis": "y"
        },
        {
         "alignmentgroup": "True",
         "hovertemplate": "Brand=%{x}<br>TopSpeed_KmH=%{y}<extra></extra>",
         "legendgroup": "Jaguar ",
         "marker": {
          "color": "#B6E880",
          "pattern": {
           "shape": ""
          }
         },
         "name": "Jaguar ",
         "offsetgroup": "Jaguar ",
         "orientation": "v",
         "showlegend": true,
         "textposition": "auto",
         "type": "bar",
         "x": [
          "Jaguar "
         ],
         "xaxis": "x",
         "y": [
          200
         ],
         "yaxis": "y"
        },
        {
         "alignmentgroup": "True",
         "hovertemplate": "Brand=%{x}<br>TopSpeed_KmH=%{y}<extra></extra>",
         "legendgroup": "Ford ",
         "marker": {
          "color": "#FF97FF",
          "pattern": {
           "shape": ""
          }
         },
         "name": "Ford ",
         "offsetgroup": "Ford ",
         "orientation": "v",
         "showlegend": true,
         "textposition": "auto",
         "type": "bar",
         "x": [
          "Ford ",
          "Ford ",
          "Ford ",
          "Ford "
         ],
         "xaxis": "x",
         "y": [
          180,
          180,
          180,
          180
         ],
         "yaxis": "y"
        },
        {
         "alignmentgroup": "True",
         "hovertemplate": "Brand=%{x}<br>TopSpeed_KmH=%{y}<extra></extra>",
         "legendgroup": "Byton ",
         "marker": {
          "color": "#FECB52",
          "pattern": {
           "shape": ""
          }
         },
         "name": "Byton ",
         "offsetgroup": "Byton ",
         "orientation": "v",
         "showlegend": true,
         "textposition": "auto",
         "type": "bar",
         "x": [
          "Byton ",
          "Byton ",
          "Byton "
         ],
         "xaxis": "x",
         "y": [
          190,
          190,
          190
         ],
         "yaxis": "y"
        },
        {
         "alignmentgroup": "True",
         "hovertemplate": "Brand=%{x}<br>TopSpeed_KmH=%{y}<extra></extra>",
         "legendgroup": "Sono ",
         "marker": {
          "color": "#636efa",
          "pattern": {
           "shape": ""
          }
         },
         "name": "Sono ",
         "offsetgroup": "Sono ",
         "orientation": "v",
         "showlegend": true,
         "textposition": "auto",
         "type": "bar",
         "x": [
          "Sono "
         ],
         "xaxis": "x",
         "y": [
          140
         ],
         "yaxis": "y"
        },
        {
         "alignmentgroup": "True",
         "hovertemplate": "Brand=%{x}<br>TopSpeed_KmH=%{y}<extra></extra>",
         "legendgroup": "Smart ",
         "marker": {
          "color": "#EF553B",
          "pattern": {
           "shape": ""
          }
         },
         "name": "Smart ",
         "offsetgroup": "Smart ",
         "orientation": "v",
         "showlegend": true,
         "textposition": "auto",
         "type": "bar",
         "x": [
          "Smart ",
          "Smart ",
          "Smart "
         ],
         "xaxis": "x",
         "y": [
          130,
          130,
          130
         ],
         "yaxis": "y"
        },
        {
         "alignmentgroup": "True",
         "hovertemplate": "Brand=%{x}<br>TopSpeed_KmH=%{y}<extra></extra>",
         "legendgroup": "Fiat ",
         "marker": {
          "color": "#00cc96",
          "pattern": {
           "shape": ""
          }
         },
         "name": "Fiat ",
         "offsetgroup": "Fiat ",
         "orientation": "v",
         "showlegend": true,
         "textposition": "auto",
         "type": "bar",
         "x": [
          "Fiat ",
          "Fiat "
         ],
         "xaxis": "x",
         "y": [
          150,
          150
         ],
         "yaxis": "y"
        }
       ],
       "layout": {
        "barmode": "relative",
        "legend": {
         "title": {
          "text": "Brand"
         },
         "tracegroupgap": 0
        },
        "template": {
         "data": {
          "bar": [
           {
            "error_x": {
             "color": "#2a3f5f"
            },
            "error_y": {
             "color": "#2a3f5f"
            },
            "marker": {
             "line": {
              "color": "#E5ECF6",
              "width": 0.5
             },
             "pattern": {
              "fillmode": "overlay",
              "size": 10,
              "solidity": 0.2
             }
            },
            "type": "bar"
           }
          ],
          "barpolar": [
           {
            "marker": {
             "line": {
              "color": "#E5ECF6",
              "width": 0.5
             },
             "pattern": {
              "fillmode": "overlay",
              "size": 10,
              "solidity": 0.2
             }
            },
            "type": "barpolar"
           }
          ],
          "carpet": [
           {
            "aaxis": {
             "endlinecolor": "#2a3f5f",
             "gridcolor": "white",
             "linecolor": "white",
             "minorgridcolor": "white",
             "startlinecolor": "#2a3f5f"
            },
            "baxis": {
             "endlinecolor": "#2a3f5f",
             "gridcolor": "white",
             "linecolor": "white",
             "minorgridcolor": "white",
             "startlinecolor": "#2a3f5f"
            },
            "type": "carpet"
           }
          ],
          "choropleth": [
           {
            "colorbar": {
             "outlinewidth": 0,
             "ticks": ""
            },
            "type": "choropleth"
           }
          ],
          "contour": [
           {
            "colorbar": {
             "outlinewidth": 0,
             "ticks": ""
            },
            "colorscale": [
             [
              0,
              "#0d0887"
             ],
             [
              0.1111111111111111,
              "#46039f"
             ],
             [
              0.2222222222222222,
              "#7201a8"
             ],
             [
              0.3333333333333333,
              "#9c179e"
             ],
             [
              0.4444444444444444,
              "#bd3786"
             ],
             [
              0.5555555555555556,
              "#d8576b"
             ],
             [
              0.6666666666666666,
              "#ed7953"
             ],
             [
              0.7777777777777778,
              "#fb9f3a"
             ],
             [
              0.8888888888888888,
              "#fdca26"
             ],
             [
              1,
              "#f0f921"
             ]
            ],
            "type": "contour"
           }
          ],
          "contourcarpet": [
           {
            "colorbar": {
             "outlinewidth": 0,
             "ticks": ""
            },
            "type": "contourcarpet"
           }
          ],
          "heatmap": [
           {
            "colorbar": {
             "outlinewidth": 0,
             "ticks": ""
            },
            "colorscale": [
             [
              0,
              "#0d0887"
             ],
             [
              0.1111111111111111,
              "#46039f"
             ],
             [
              0.2222222222222222,
              "#7201a8"
             ],
             [
              0.3333333333333333,
              "#9c179e"
             ],
             [
              0.4444444444444444,
              "#bd3786"
             ],
             [
              0.5555555555555556,
              "#d8576b"
             ],
             [
              0.6666666666666666,
              "#ed7953"
             ],
             [
              0.7777777777777778,
              "#fb9f3a"
             ],
             [
              0.8888888888888888,
              "#fdca26"
             ],
             [
              1,
              "#f0f921"
             ]
            ],
            "type": "heatmap"
           }
          ],
          "heatmapgl": [
           {
            "colorbar": {
             "outlinewidth": 0,
             "ticks": ""
            },
            "colorscale": [
             [
              0,
              "#0d0887"
             ],
             [
              0.1111111111111111,
              "#46039f"
             ],
             [
              0.2222222222222222,
              "#7201a8"
             ],
             [
              0.3333333333333333,
              "#9c179e"
             ],
             [
              0.4444444444444444,
              "#bd3786"
             ],
             [
              0.5555555555555556,
              "#d8576b"
             ],
             [
              0.6666666666666666,
              "#ed7953"
             ],
             [
              0.7777777777777778,
              "#fb9f3a"
             ],
             [
              0.8888888888888888,
              "#fdca26"
             ],
             [
              1,
              "#f0f921"
             ]
            ],
            "type": "heatmapgl"
           }
          ],
          "histogram": [
           {
            "marker": {
             "pattern": {
              "fillmode": "overlay",
              "size": 10,
              "solidity": 0.2
             }
            },
            "type": "histogram"
           }
          ],
          "histogram2d": [
           {
            "colorbar": {
             "outlinewidth": 0,
             "ticks": ""
            },
            "colorscale": [
             [
              0,
              "#0d0887"
             ],
             [
              0.1111111111111111,
              "#46039f"
             ],
             [
              0.2222222222222222,
              "#7201a8"
             ],
             [
              0.3333333333333333,
              "#9c179e"
             ],
             [
              0.4444444444444444,
              "#bd3786"
             ],
             [
              0.5555555555555556,
              "#d8576b"
             ],
             [
              0.6666666666666666,
              "#ed7953"
             ],
             [
              0.7777777777777778,
              "#fb9f3a"
             ],
             [
              0.8888888888888888,
              "#fdca26"
             ],
             [
              1,
              "#f0f921"
             ]
            ],
            "type": "histogram2d"
           }
          ],
          "histogram2dcontour": [
           {
            "colorbar": {
             "outlinewidth": 0,
             "ticks": ""
            },
            "colorscale": [
             [
              0,
              "#0d0887"
             ],
             [
              0.1111111111111111,
              "#46039f"
             ],
             [
              0.2222222222222222,
              "#7201a8"
             ],
             [
              0.3333333333333333,
              "#9c179e"
             ],
             [
              0.4444444444444444,
              "#bd3786"
             ],
             [
              0.5555555555555556,
              "#d8576b"
             ],
             [
              0.6666666666666666,
              "#ed7953"
             ],
             [
              0.7777777777777778,
              "#fb9f3a"
             ],
             [
              0.8888888888888888,
              "#fdca26"
             ],
             [
              1,
              "#f0f921"
             ]
            ],
            "type": "histogram2dcontour"
           }
          ],
          "mesh3d": [
           {
            "colorbar": {
             "outlinewidth": 0,
             "ticks": ""
            },
            "type": "mesh3d"
           }
          ],
          "parcoords": [
           {
            "line": {
             "colorbar": {
              "outlinewidth": 0,
              "ticks": ""
             }
            },
            "type": "parcoords"
           }
          ],
          "pie": [
           {
            "automargin": true,
            "type": "pie"
           }
          ],
          "scatter": [
           {
            "fillpattern": {
             "fillmode": "overlay",
             "size": 10,
             "solidity": 0.2
            },
            "type": "scatter"
           }
          ],
          "scatter3d": [
           {
            "line": {
             "colorbar": {
              "outlinewidth": 0,
              "ticks": ""
             }
            },
            "marker": {
             "colorbar": {
              "outlinewidth": 0,
              "ticks": ""
             }
            },
            "type": "scatter3d"
           }
          ],
          "scattercarpet": [
           {
            "marker": {
             "colorbar": {
              "outlinewidth": 0,
              "ticks": ""
             }
            },
            "type": "scattercarpet"
           }
          ],
          "scattergeo": [
           {
            "marker": {
             "colorbar": {
              "outlinewidth": 0,
              "ticks": ""
             }
            },
            "type": "scattergeo"
           }
          ],
          "scattergl": [
           {
            "marker": {
             "colorbar": {
              "outlinewidth": 0,
              "ticks": ""
             }
            },
            "type": "scattergl"
           }
          ],
          "scattermapbox": [
           {
            "marker": {
             "colorbar": {
              "outlinewidth": 0,
              "ticks": ""
             }
            },
            "type": "scattermapbox"
           }
          ],
          "scatterpolar": [
           {
            "marker": {
             "colorbar": {
              "outlinewidth": 0,
              "ticks": ""
             }
            },
            "type": "scatterpolar"
           }
          ],
          "scatterpolargl": [
           {
            "marker": {
             "colorbar": {
              "outlinewidth": 0,
              "ticks": ""
             }
            },
            "type": "scatterpolargl"
           }
          ],
          "scatterternary": [
           {
            "marker": {
             "colorbar": {
              "outlinewidth": 0,
              "ticks": ""
             }
            },
            "type": "scatterternary"
           }
          ],
          "surface": [
           {
            "colorbar": {
             "outlinewidth": 0,
             "ticks": ""
            },
            "colorscale": [
             [
              0,
              "#0d0887"
             ],
             [
              0.1111111111111111,
              "#46039f"
             ],
             [
              0.2222222222222222,
              "#7201a8"
             ],
             [
              0.3333333333333333,
              "#9c179e"
             ],
             [
              0.4444444444444444,
              "#bd3786"
             ],
             [
              0.5555555555555556,
              "#d8576b"
             ],
             [
              0.6666666666666666,
              "#ed7953"
             ],
             [
              0.7777777777777778,
              "#fb9f3a"
             ],
             [
              0.8888888888888888,
              "#fdca26"
             ],
             [
              1,
              "#f0f921"
             ]
            ],
            "type": "surface"
           }
          ],
          "table": [
           {
            "cells": {
             "fill": {
              "color": "#EBF0F8"
             },
             "line": {
              "color": "white"
             }
            },
            "header": {
             "fill": {
              "color": "#C8D4E3"
             },
             "line": {
              "color": "white"
             }
            },
            "type": "table"
           }
          ]
         },
         "layout": {
          "annotationdefaults": {
           "arrowcolor": "#2a3f5f",
           "arrowhead": 0,
           "arrowwidth": 1
          },
          "autotypenumbers": "strict",
          "coloraxis": {
           "colorbar": {
            "outlinewidth": 0,
            "ticks": ""
           }
          },
          "colorscale": {
           "diverging": [
            [
             0,
             "#8e0152"
            ],
            [
             0.1,
             "#c51b7d"
            ],
            [
             0.2,
             "#de77ae"
            ],
            [
             0.3,
             "#f1b6da"
            ],
            [
             0.4,
             "#fde0ef"
            ],
            [
             0.5,
             "#f7f7f7"
            ],
            [
             0.6,
             "#e6f5d0"
            ],
            [
             0.7,
             "#b8e186"
            ],
            [
             0.8,
             "#7fbc41"
            ],
            [
             0.9,
             "#4d9221"
            ],
            [
             1,
             "#276419"
            ]
           ],
           "sequential": [
            [
             0,
             "#0d0887"
            ],
            [
             0.1111111111111111,
             "#46039f"
            ],
            [
             0.2222222222222222,
             "#7201a8"
            ],
            [
             0.3333333333333333,
             "#9c179e"
            ],
            [
             0.4444444444444444,
             "#bd3786"
            ],
            [
             0.5555555555555556,
             "#d8576b"
            ],
            [
             0.6666666666666666,
             "#ed7953"
            ],
            [
             0.7777777777777778,
             "#fb9f3a"
            ],
            [
             0.8888888888888888,
             "#fdca26"
            ],
            [
             1,
             "#f0f921"
            ]
           ],
           "sequentialminus": [
            [
             0,
             "#0d0887"
            ],
            [
             0.1111111111111111,
             "#46039f"
            ],
            [
             0.2222222222222222,
             "#7201a8"
            ],
            [
             0.3333333333333333,
             "#9c179e"
            ],
            [
             0.4444444444444444,
             "#bd3786"
            ],
            [
             0.5555555555555556,
             "#d8576b"
            ],
            [
             0.6666666666666666,
             "#ed7953"
            ],
            [
             0.7777777777777778,
             "#fb9f3a"
            ],
            [
             0.8888888888888888,
             "#fdca26"
            ],
            [
             1,
             "#f0f921"
            ]
           ]
          },
          "colorway": [
           "#636efa",
           "#EF553B",
           "#00cc96",
           "#ab63fa",
           "#FFA15A",
           "#19d3f3",
           "#FF6692",
           "#B6E880",
           "#FF97FF",
           "#FECB52"
          ],
          "font": {
           "color": "#2a3f5f"
          },
          "geo": {
           "bgcolor": "white",
           "lakecolor": "white",
           "landcolor": "#E5ECF6",
           "showlakes": true,
           "showland": true,
           "subunitcolor": "white"
          },
          "hoverlabel": {
           "align": "left"
          },
          "hovermode": "closest",
          "mapbox": {
           "style": "light"
          },
          "paper_bgcolor": "white",
          "plot_bgcolor": "#E5ECF6",
          "polar": {
           "angularaxis": {
            "gridcolor": "white",
            "linecolor": "white",
            "ticks": ""
           },
           "bgcolor": "#E5ECF6",
           "radialaxis": {
            "gridcolor": "white",
            "linecolor": "white",
            "ticks": ""
           }
          },
          "scene": {
           "xaxis": {
            "backgroundcolor": "#E5ECF6",
            "gridcolor": "white",
            "gridwidth": 2,
            "linecolor": "white",
            "showbackground": true,
            "ticks": "",
            "zerolinecolor": "white"
           },
           "yaxis": {
            "backgroundcolor": "#E5ECF6",
            "gridcolor": "white",
            "gridwidth": 2,
            "linecolor": "white",
            "showbackground": true,
            "ticks": "",
            "zerolinecolor": "white"
           },
           "zaxis": {
            "backgroundcolor": "#E5ECF6",
            "gridcolor": "white",
            "gridwidth": 2,
            "linecolor": "white",
            "showbackground": true,
            "ticks": "",
            "zerolinecolor": "white"
           }
          },
          "shapedefaults": {
           "line": {
            "color": "#2a3f5f"
           }
          },
          "ternary": {
           "aaxis": {
            "gridcolor": "white",
            "linecolor": "white",
            "ticks": ""
           },
           "baxis": {
            "gridcolor": "white",
            "linecolor": "white",
            "ticks": ""
           },
           "bgcolor": "#E5ECF6",
           "caxis": {
            "gridcolor": "white",
            "linecolor": "white",
            "ticks": ""
           }
          },
          "title": {
           "x": 0.05
          },
          "xaxis": {
           "automargin": true,
           "gridcolor": "white",
           "linecolor": "white",
           "ticks": "",
           "title": {
            "standoff": 15
           },
           "zerolinecolor": "white",
           "zerolinewidth": 2
          },
          "yaxis": {
           "automargin": true,
           "gridcolor": "white",
           "linecolor": "white",
           "ticks": "",
           "title": {
            "standoff": 15
           },
           "zerolinecolor": "white",
           "zerolinewidth": 2
          }
         }
        },
        "title": {
         "text": "Which Car Has a Top speed?"
        },
        "xaxis": {
         "anchor": "y",
         "categoryarray": [
          "Tesla ",
          "Volkswagen ",
          "Polestar ",
          "BMW ",
          "Honda ",
          "Lucid ",
          "Peugeot ",
          "Audi ",
          "Mercedes ",
          "Nissan ",
          "Hyundai ",
          "Porsche ",
          "MG ",
          "Mini ",
          "Opel ",
          "Skoda ",
          "Volvo ",
          "Kia ",
          "Renault ",
          "Mazda ",
          "Lexus ",
          "CUPRA ",
          "SEAT ",
          "Lightyear ",
          "Aiways ",
          "DS ",
          "Citroen ",
          "Jaguar ",
          "Ford ",
          "Byton ",
          "Sono ",
          "Smart ",
          "Fiat "
         ],
         "categoryorder": "array",
         "domain": [
          0,
          1
         ],
         "title": {
          "text": "Brand"
         }
        },
        "yaxis": {
         "anchor": "x",
         "domain": [
          0,
          1
         ],
         "title": {
          "text": "TopSpeed_KmH"
         }
        }
       }
      },
      "text/html": [
       "<div>                            <div id=\"d86601d8-1a3f-4a9d-b733-1ecad35e8b64\" class=\"plotly-graph-div\" style=\"height:525px; width:100%;\"></div>            <script type=\"text/javascript\">                require([\"plotly\"], function(Plotly) {                    window.PLOTLYENV=window.PLOTLYENV || {};                                    if (document.getElementById(\"d86601d8-1a3f-4a9d-b733-1ecad35e8b64\")) {                    Plotly.newPlot(                        \"d86601d8-1a3f-4a9d-b733-1ecad35e8b64\",                        [{\"alignmentgroup\":\"True\",\"hovertemplate\":\"Brand=%{x}<br>TopSpeed_KmH=%{y}<extra></extra>\",\"legendgroup\":\"Tesla \",\"marker\":{\"color\":\"#636efa\",\"pattern\":{\"shape\":\"\"}},\"name\":\"Tesla \",\"offsetgroup\":\"Tesla \",\"orientation\":\"v\",\"showlegend\":true,\"textposition\":\"auto\",\"x\":[\"Tesla \",\"Tesla \",\"Tesla \",\"Tesla \",\"Tesla \",\"Tesla \",\"Tesla \",\"Tesla \",\"Tesla \",\"Tesla \",\"Tesla \",\"Tesla \",\"Tesla \"],\"xaxis\":\"x\",\"y\":[233,225,217,261,210,250,410,250,261,241,190,250,180],\"yaxis\":\"y\",\"type\":\"bar\"},{\"alignmentgroup\":\"True\",\"hovertemplate\":\"Brand=%{x}<br>TopSpeed_KmH=%{y}<extra></extra>\",\"legendgroup\":\"Volkswagen \",\"marker\":{\"color\":\"#EF553B\",\"pattern\":{\"shape\":\"\"}},\"name\":\"Volkswagen \",\"offsetgroup\":\"Volkswagen \",\"orientation\":\"v\",\"showlegend\":true,\"textposition\":\"auto\",\"x\":[\"Volkswagen \",\"Volkswagen \",\"Volkswagen \",\"Volkswagen \",\"Volkswagen \",\"Volkswagen \",\"Volkswagen \",\"Volkswagen \"],\"xaxis\":\"x\",\"y\":[160,150,160,130,160,160,160,160],\"yaxis\":\"y\",\"type\":\"bar\"},{\"alignmentgroup\":\"True\",\"hovertemplate\":\"Brand=%{x}<br>TopSpeed_KmH=%{y}<extra></extra>\",\"legendgroup\":\"Polestar \",\"marker\":{\"color\":\"#00cc96\",\"pattern\":{\"shape\":\"\"}},\"name\":\"Polestar \",\"offsetgroup\":\"Polestar \",\"orientation\":\"v\",\"showlegend\":true,\"textposition\":\"auto\",\"x\":[\"Polestar \"],\"xaxis\":\"x\",\"y\":[210],\"yaxis\":\"y\",\"type\":\"bar\"},{\"alignmentgroup\":\"True\",\"hovertemplate\":\"Brand=%{x}<br>TopSpeed_KmH=%{y}<extra></extra>\",\"legendgroup\":\"BMW \",\"marker\":{\"color\":\"#ab63fa\",\"pattern\":{\"shape\":\"\"}},\"name\":\"BMW \",\"offsetgroup\":\"BMW \",\"orientation\":\"v\",\"showlegend\":true,\"textposition\":\"auto\",\"x\":[\"BMW \",\"BMW \",\"BMW \",\"BMW \"],\"xaxis\":\"x\",\"y\":[180,200,150,160],\"yaxis\":\"y\",\"type\":\"bar\"},{\"alignmentgroup\":\"True\",\"hovertemplate\":\"Brand=%{x}<br>TopSpeed_KmH=%{y}<extra></extra>\",\"legendgroup\":\"Honda \",\"marker\":{\"color\":\"#FFA15A\",\"pattern\":{\"shape\":\"\"}},\"name\":\"Honda \",\"offsetgroup\":\"Honda \",\"orientation\":\"v\",\"showlegend\":true,\"textposition\":\"auto\",\"x\":[\"Honda \",\"Honda \"],\"xaxis\":\"x\",\"y\":[145,145],\"yaxis\":\"y\",\"type\":\"bar\"},{\"alignmentgroup\":\"True\",\"hovertemplate\":\"Brand=%{x}<br>TopSpeed_KmH=%{y}<extra></extra>\",\"legendgroup\":\"Lucid \",\"marker\":{\"color\":\"#19d3f3\",\"pattern\":{\"shape\":\"\"}},\"name\":\"Lucid \",\"offsetgroup\":\"Lucid \",\"orientation\":\"v\",\"showlegend\":true,\"textposition\":\"auto\",\"x\":[\"Lucid \"],\"xaxis\":\"x\",\"y\":[250],\"yaxis\":\"y\",\"type\":\"bar\"},{\"alignmentgroup\":\"True\",\"hovertemplate\":\"Brand=%{x}<br>TopSpeed_KmH=%{y}<extra></extra>\",\"legendgroup\":\"Peugeot \",\"marker\":{\"color\":\"#FF6692\",\"pattern\":{\"shape\":\"\"}},\"name\":\"Peugeot \",\"offsetgroup\":\"Peugeot \",\"orientation\":\"v\",\"showlegend\":true,\"textposition\":\"auto\",\"x\":[\"Peugeot \",\"Peugeot \"],\"xaxis\":\"x\",\"y\":[150,150],\"yaxis\":\"y\",\"type\":\"bar\"},{\"alignmentgroup\":\"True\",\"hovertemplate\":\"Brand=%{x}<br>TopSpeed_KmH=%{y}<extra></extra>\",\"legendgroup\":\"Audi \",\"marker\":{\"color\":\"#B6E880\",\"pattern\":{\"shape\":\"\"}},\"name\":\"Audi \",\"offsetgroup\":\"Audi \",\"orientation\":\"v\",\"showlegend\":true,\"textposition\":\"auto\",\"x\":[\"Audi \",\"Audi \",\"Audi \",\"Audi \",\"Audi \",\"Audi \",\"Audi \",\"Audi \",\"Audi \"],\"xaxis\":\"x\",\"y\":[180,240,190,200,200,180,190,210,210],\"yaxis\":\"y\",\"type\":\"bar\"},{\"alignmentgroup\":\"True\",\"hovertemplate\":\"Brand=%{x}<br>TopSpeed_KmH=%{y}<extra></extra>\",\"legendgroup\":\"Mercedes \",\"marker\":{\"color\":\"#FF97FF\",\"pattern\":{\"shape\":\"\"}},\"name\":\"Mercedes \",\"offsetgroup\":\"Mercedes \",\"orientation\":\"v\",\"showlegend\":true,\"textposition\":\"auto\",\"x\":[\"Mercedes \",\"Mercedes \",\"Mercedes \"],\"xaxis\":\"x\",\"y\":[180,200,140],\"yaxis\":\"y\",\"type\":\"bar\"},{\"alignmentgroup\":\"True\",\"hovertemplate\":\"Brand=%{x}<br>TopSpeed_KmH=%{y}<extra></extra>\",\"legendgroup\":\"Nissan \",\"marker\":{\"color\":\"#FECB52\",\"pattern\":{\"shape\":\"\"}},\"name\":\"Nissan \",\"offsetgroup\":\"Nissan \",\"orientation\":\"v\",\"showlegend\":true,\"textposition\":\"auto\",\"x\":[\"Nissan \",\"Nissan \",\"Nissan \",\"Nissan \",\"Nissan \",\"Nissan \",\"Nissan \",\"Nissan \"],\"xaxis\":\"x\",\"y\":[144,157,160,123,200,160,200,200],\"yaxis\":\"y\",\"type\":\"bar\"},{\"alignmentgroup\":\"True\",\"hovertemplate\":\"Brand=%{x}<br>TopSpeed_KmH=%{y}<extra></extra>\",\"legendgroup\":\"Hyundai \",\"marker\":{\"color\":\"#636efa\",\"pattern\":{\"shape\":\"\"}},\"name\":\"Hyundai \",\"offsetgroup\":\"Hyundai \",\"orientation\":\"v\",\"showlegend\":true,\"textposition\":\"auto\",\"x\":[\"Hyundai \",\"Hyundai \",\"Hyundai \"],\"xaxis\":\"x\",\"y\":[167,165,155],\"yaxis\":\"y\",\"type\":\"bar\"},{\"alignmentgroup\":\"True\",\"hovertemplate\":\"Brand=%{x}<br>TopSpeed_KmH=%{y}<extra></extra>\",\"legendgroup\":\"Porsche \",\"marker\":{\"color\":\"#EF553B\",\"pattern\":{\"shape\":\"\"}},\"name\":\"Porsche \",\"offsetgroup\":\"Porsche \",\"orientation\":\"v\",\"showlegend\":true,\"textposition\":\"auto\",\"x\":[\"Porsche \",\"Porsche \",\"Porsche \",\"Porsche \",\"Porsche \"],\"xaxis\":\"x\",\"y\":[260,250,250,250,260],\"yaxis\":\"y\",\"type\":\"bar\"},{\"alignmentgroup\":\"True\",\"hovertemplate\":\"Brand=%{x}<br>TopSpeed_KmH=%{y}<extra></extra>\",\"legendgroup\":\"MG \",\"marker\":{\"color\":\"#00cc96\",\"pattern\":{\"shape\":\"\"}},\"name\":\"MG \",\"offsetgroup\":\"MG \",\"orientation\":\"v\",\"showlegend\":true,\"textposition\":\"auto\",\"x\":[\"MG \"],\"xaxis\":\"x\",\"y\":[140],\"yaxis\":\"y\",\"type\":\"bar\"},{\"alignmentgroup\":\"True\",\"hovertemplate\":\"Brand=%{x}<br>TopSpeed_KmH=%{y}<extra></extra>\",\"legendgroup\":\"Mini \",\"marker\":{\"color\":\"#ab63fa\",\"pattern\":{\"shape\":\"\"}},\"name\":\"Mini \",\"offsetgroup\":\"Mini \",\"orientation\":\"v\",\"showlegend\":true,\"textposition\":\"auto\",\"x\":[\"Mini \"],\"xaxis\":\"x\",\"y\":[150],\"yaxis\":\"y\",\"type\":\"bar\"},{\"alignmentgroup\":\"True\",\"hovertemplate\":\"Brand=%{x}<br>TopSpeed_KmH=%{y}<extra></extra>\",\"legendgroup\":\"Opel \",\"marker\":{\"color\":\"#FFA15A\",\"pattern\":{\"shape\":\"\"}},\"name\":\"Opel \",\"offsetgroup\":\"Opel \",\"orientation\":\"v\",\"showlegend\":true,\"textposition\":\"auto\",\"x\":[\"Opel \",\"Opel \",\"Opel \"],\"xaxis\":\"x\",\"y\":[150,150,150],\"yaxis\":\"y\",\"type\":\"bar\"},{\"alignmentgroup\":\"True\",\"hovertemplate\":\"Brand=%{x}<br>TopSpeed_KmH=%{y}<extra></extra>\",\"legendgroup\":\"Skoda \",\"marker\":{\"color\":\"#19d3f3\",\"pattern\":{\"shape\":\"\"}},\"name\":\"Skoda \",\"offsetgroup\":\"Skoda \",\"orientation\":\"v\",\"showlegend\":true,\"textposition\":\"auto\",\"x\":[\"Skoda \",\"Skoda \",\"Skoda \",\"Skoda \",\"Skoda \",\"Skoda \"],\"xaxis\":\"x\",\"y\":[160,130,160,160,180,160],\"yaxis\":\"y\",\"type\":\"bar\"},{\"alignmentgroup\":\"True\",\"hovertemplate\":\"Brand=%{x}<br>TopSpeed_KmH=%{y}<extra></extra>\",\"legendgroup\":\"Volvo \",\"marker\":{\"color\":\"#FF6692\",\"pattern\":{\"shape\":\"\"}},\"name\":\"Volvo \",\"offsetgroup\":\"Volvo \",\"orientation\":\"v\",\"showlegend\":true,\"textposition\":\"auto\",\"x\":[\"Volvo \"],\"xaxis\":\"x\",\"y\":[180],\"yaxis\":\"y\",\"type\":\"bar\"},{\"alignmentgroup\":\"True\",\"hovertemplate\":\"Brand=%{x}<br>TopSpeed_KmH=%{y}<extra></extra>\",\"legendgroup\":\"Kia \",\"marker\":{\"color\":\"#B6E880\",\"pattern\":{\"shape\":\"\"}},\"name\":\"Kia \",\"offsetgroup\":\"Kia \",\"orientation\":\"v\",\"showlegend\":true,\"textposition\":\"auto\",\"x\":[\"Kia \",\"Kia \",\"Kia \",\"Kia \",\"Kia \"],\"xaxis\":\"x\",\"y\":[167,167,155,167,157],\"yaxis\":\"y\",\"type\":\"bar\"},{\"alignmentgroup\":\"True\",\"hovertemplate\":\"Brand=%{x}<br>TopSpeed_KmH=%{y}<extra></extra>\",\"legendgroup\":\"Renault \",\"marker\":{\"color\":\"#FF97FF\",\"pattern\":{\"shape\":\"\"}},\"name\":\"Renault \",\"offsetgroup\":\"Renault \",\"orientation\":\"v\",\"showlegend\":true,\"textposition\":\"auto\",\"x\":[\"Renault \",\"Renault \",\"Renault \",\"Renault \",\"Renault \"],\"xaxis\":\"x\",\"y\":[135,140,135,135,130],\"yaxis\":\"y\",\"type\":\"bar\"},{\"alignmentgroup\":\"True\",\"hovertemplate\":\"Brand=%{x}<br>TopSpeed_KmH=%{y}<extra></extra>\",\"legendgroup\":\"Mazda \",\"marker\":{\"color\":\"#FECB52\",\"pattern\":{\"shape\":\"\"}},\"name\":\"Mazda \",\"offsetgroup\":\"Mazda \",\"orientation\":\"v\",\"showlegend\":true,\"textposition\":\"auto\",\"x\":[\"Mazda \"],\"xaxis\":\"x\",\"y\":[150],\"yaxis\":\"y\",\"type\":\"bar\"},{\"alignmentgroup\":\"True\",\"hovertemplate\":\"Brand=%{x}<br>TopSpeed_KmH=%{y}<extra></extra>\",\"legendgroup\":\"Lexus \",\"marker\":{\"color\":\"#636efa\",\"pattern\":{\"shape\":\"\"}},\"name\":\"Lexus \",\"offsetgroup\":\"Lexus \",\"orientation\":\"v\",\"showlegend\":true,\"textposition\":\"auto\",\"x\":[\"Lexus \"],\"xaxis\":\"x\",\"y\":[160],\"yaxis\":\"y\",\"type\":\"bar\"},{\"alignmentgroup\":\"True\",\"hovertemplate\":\"Brand=%{x}<br>TopSpeed_KmH=%{y}<extra></extra>\",\"legendgroup\":\"CUPRA \",\"marker\":{\"color\":\"#EF553B\",\"pattern\":{\"shape\":\"\"}},\"name\":\"CUPRA \",\"offsetgroup\":\"CUPRA \",\"orientation\":\"v\",\"showlegend\":true,\"textposition\":\"auto\",\"x\":[\"CUPRA \"],\"xaxis\":\"x\",\"y\":[160],\"yaxis\":\"y\",\"type\":\"bar\"},{\"alignmentgroup\":\"True\",\"hovertemplate\":\"Brand=%{x}<br>TopSpeed_KmH=%{y}<extra></extra>\",\"legendgroup\":\"SEAT \",\"marker\":{\"color\":\"#00cc96\",\"pattern\":{\"shape\":\"\"}},\"name\":\"SEAT \",\"offsetgroup\":\"SEAT \",\"orientation\":\"v\",\"showlegend\":true,\"textposition\":\"auto\",\"x\":[\"SEAT \"],\"xaxis\":\"x\",\"y\":[130],\"yaxis\":\"y\",\"type\":\"bar\"},{\"alignmentgroup\":\"True\",\"hovertemplate\":\"Brand=%{x}<br>TopSpeed_KmH=%{y}<extra></extra>\",\"legendgroup\":\"Lightyear \",\"marker\":{\"color\":\"#ab63fa\",\"pattern\":{\"shape\":\"\"}},\"name\":\"Lightyear \",\"offsetgroup\":\"Lightyear \",\"orientation\":\"v\",\"showlegend\":true,\"textposition\":\"auto\",\"x\":[\"Lightyear \"],\"xaxis\":\"x\",\"y\":[150],\"yaxis\":\"y\",\"type\":\"bar\"},{\"alignmentgroup\":\"True\",\"hovertemplate\":\"Brand=%{x}<br>TopSpeed_KmH=%{y}<extra></extra>\",\"legendgroup\":\"Aiways \",\"marker\":{\"color\":\"#FFA15A\",\"pattern\":{\"shape\":\"\"}},\"name\":\"Aiways \",\"offsetgroup\":\"Aiways \",\"orientation\":\"v\",\"showlegend\":true,\"textposition\":\"auto\",\"x\":[\"Aiways \"],\"xaxis\":\"x\",\"y\":[150],\"yaxis\":\"y\",\"type\":\"bar\"},{\"alignmentgroup\":\"True\",\"hovertemplate\":\"Brand=%{x}<br>TopSpeed_KmH=%{y}<extra></extra>\",\"legendgroup\":\"DS \",\"marker\":{\"color\":\"#19d3f3\",\"pattern\":{\"shape\":\"\"}},\"name\":\"DS \",\"offsetgroup\":\"DS \",\"orientation\":\"v\",\"showlegend\":true,\"textposition\":\"auto\",\"x\":[\"DS \"],\"xaxis\":\"x\",\"y\":[150],\"yaxis\":\"y\",\"type\":\"bar\"},{\"alignmentgroup\":\"True\",\"hovertemplate\":\"Brand=%{x}<br>TopSpeed_KmH=%{y}<extra></extra>\",\"legendgroup\":\"Citroen \",\"marker\":{\"color\":\"#FF6692\",\"pattern\":{\"shape\":\"\"}},\"name\":\"Citroen \",\"offsetgroup\":\"Citroen \",\"orientation\":\"v\",\"showlegend\":true,\"textposition\":\"auto\",\"x\":[\"Citroen \"],\"xaxis\":\"x\",\"y\":[150],\"yaxis\":\"y\",\"type\":\"bar\"},{\"alignmentgroup\":\"True\",\"hovertemplate\":\"Brand=%{x}<br>TopSpeed_KmH=%{y}<extra></extra>\",\"legendgroup\":\"Jaguar \",\"marker\":{\"color\":\"#B6E880\",\"pattern\":{\"shape\":\"\"}},\"name\":\"Jaguar \",\"offsetgroup\":\"Jaguar \",\"orientation\":\"v\",\"showlegend\":true,\"textposition\":\"auto\",\"x\":[\"Jaguar \"],\"xaxis\":\"x\",\"y\":[200],\"yaxis\":\"y\",\"type\":\"bar\"},{\"alignmentgroup\":\"True\",\"hovertemplate\":\"Brand=%{x}<br>TopSpeed_KmH=%{y}<extra></extra>\",\"legendgroup\":\"Ford \",\"marker\":{\"color\":\"#FF97FF\",\"pattern\":{\"shape\":\"\"}},\"name\":\"Ford \",\"offsetgroup\":\"Ford \",\"orientation\":\"v\",\"showlegend\":true,\"textposition\":\"auto\",\"x\":[\"Ford \",\"Ford \",\"Ford \",\"Ford \"],\"xaxis\":\"x\",\"y\":[180,180,180,180],\"yaxis\":\"y\",\"type\":\"bar\"},{\"alignmentgroup\":\"True\",\"hovertemplate\":\"Brand=%{x}<br>TopSpeed_KmH=%{y}<extra></extra>\",\"legendgroup\":\"Byton \",\"marker\":{\"color\":\"#FECB52\",\"pattern\":{\"shape\":\"\"}},\"name\":\"Byton \",\"offsetgroup\":\"Byton \",\"orientation\":\"v\",\"showlegend\":true,\"textposition\":\"auto\",\"x\":[\"Byton \",\"Byton \",\"Byton \"],\"xaxis\":\"x\",\"y\":[190,190,190],\"yaxis\":\"y\",\"type\":\"bar\"},{\"alignmentgroup\":\"True\",\"hovertemplate\":\"Brand=%{x}<br>TopSpeed_KmH=%{y}<extra></extra>\",\"legendgroup\":\"Sono \",\"marker\":{\"color\":\"#636efa\",\"pattern\":{\"shape\":\"\"}},\"name\":\"Sono \",\"offsetgroup\":\"Sono \",\"orientation\":\"v\",\"showlegend\":true,\"textposition\":\"auto\",\"x\":[\"Sono \"],\"xaxis\":\"x\",\"y\":[140],\"yaxis\":\"y\",\"type\":\"bar\"},{\"alignmentgroup\":\"True\",\"hovertemplate\":\"Brand=%{x}<br>TopSpeed_KmH=%{y}<extra></extra>\",\"legendgroup\":\"Smart \",\"marker\":{\"color\":\"#EF553B\",\"pattern\":{\"shape\":\"\"}},\"name\":\"Smart \",\"offsetgroup\":\"Smart \",\"orientation\":\"v\",\"showlegend\":true,\"textposition\":\"auto\",\"x\":[\"Smart \",\"Smart \",\"Smart \"],\"xaxis\":\"x\",\"y\":[130,130,130],\"yaxis\":\"y\",\"type\":\"bar\"},{\"alignmentgroup\":\"True\",\"hovertemplate\":\"Brand=%{x}<br>TopSpeed_KmH=%{y}<extra></extra>\",\"legendgroup\":\"Fiat \",\"marker\":{\"color\":\"#00cc96\",\"pattern\":{\"shape\":\"\"}},\"name\":\"Fiat \",\"offsetgroup\":\"Fiat \",\"orientation\":\"v\",\"showlegend\":true,\"textposition\":\"auto\",\"x\":[\"Fiat \",\"Fiat \"],\"xaxis\":\"x\",\"y\":[150,150],\"yaxis\":\"y\",\"type\":\"bar\"}],                        {\"template\":{\"data\":{\"histogram2dcontour\":[{\"type\":\"histogram2dcontour\",\"colorbar\":{\"outlinewidth\":0,\"ticks\":\"\"},\"colorscale\":[[0.0,\"#0d0887\"],[0.1111111111111111,\"#46039f\"],[0.2222222222222222,\"#7201a8\"],[0.3333333333333333,\"#9c179e\"],[0.4444444444444444,\"#bd3786\"],[0.5555555555555556,\"#d8576b\"],[0.6666666666666666,\"#ed7953\"],[0.7777777777777778,\"#fb9f3a\"],[0.8888888888888888,\"#fdca26\"],[1.0,\"#f0f921\"]]}],\"choropleth\":[{\"type\":\"choropleth\",\"colorbar\":{\"outlinewidth\":0,\"ticks\":\"\"}}],\"histogram2d\":[{\"type\":\"histogram2d\",\"colorbar\":{\"outlinewidth\":0,\"ticks\":\"\"},\"colorscale\":[[0.0,\"#0d0887\"],[0.1111111111111111,\"#46039f\"],[0.2222222222222222,\"#7201a8\"],[0.3333333333333333,\"#9c179e\"],[0.4444444444444444,\"#bd3786\"],[0.5555555555555556,\"#d8576b\"],[0.6666666666666666,\"#ed7953\"],[0.7777777777777778,\"#fb9f3a\"],[0.8888888888888888,\"#fdca26\"],[1.0,\"#f0f921\"]]}],\"heatmap\":[{\"type\":\"heatmap\",\"colorbar\":{\"outlinewidth\":0,\"ticks\":\"\"},\"colorscale\":[[0.0,\"#0d0887\"],[0.1111111111111111,\"#46039f\"],[0.2222222222222222,\"#7201a8\"],[0.3333333333333333,\"#9c179e\"],[0.4444444444444444,\"#bd3786\"],[0.5555555555555556,\"#d8576b\"],[0.6666666666666666,\"#ed7953\"],[0.7777777777777778,\"#fb9f3a\"],[0.8888888888888888,\"#fdca26\"],[1.0,\"#f0f921\"]]}],\"heatmapgl\":[{\"type\":\"heatmapgl\",\"colorbar\":{\"outlinewidth\":0,\"ticks\":\"\"},\"colorscale\":[[0.0,\"#0d0887\"],[0.1111111111111111,\"#46039f\"],[0.2222222222222222,\"#7201a8\"],[0.3333333333333333,\"#9c179e\"],[0.4444444444444444,\"#bd3786\"],[0.5555555555555556,\"#d8576b\"],[0.6666666666666666,\"#ed7953\"],[0.7777777777777778,\"#fb9f3a\"],[0.8888888888888888,\"#fdca26\"],[1.0,\"#f0f921\"]]}],\"contourcarpet\":[{\"type\":\"contourcarpet\",\"colorbar\":{\"outlinewidth\":0,\"ticks\":\"\"}}],\"contour\":[{\"type\":\"contour\",\"colorbar\":{\"outlinewidth\":0,\"ticks\":\"\"},\"colorscale\":[[0.0,\"#0d0887\"],[0.1111111111111111,\"#46039f\"],[0.2222222222222222,\"#7201a8\"],[0.3333333333333333,\"#9c179e\"],[0.4444444444444444,\"#bd3786\"],[0.5555555555555556,\"#d8576b\"],[0.6666666666666666,\"#ed7953\"],[0.7777777777777778,\"#fb9f3a\"],[0.8888888888888888,\"#fdca26\"],[1.0,\"#f0f921\"]]}],\"surface\":[{\"type\":\"surface\",\"colorbar\":{\"outlinewidth\":0,\"ticks\":\"\"},\"colorscale\":[[0.0,\"#0d0887\"],[0.1111111111111111,\"#46039f\"],[0.2222222222222222,\"#7201a8\"],[0.3333333333333333,\"#9c179e\"],[0.4444444444444444,\"#bd3786\"],[0.5555555555555556,\"#d8576b\"],[0.6666666666666666,\"#ed7953\"],[0.7777777777777778,\"#fb9f3a\"],[0.8888888888888888,\"#fdca26\"],[1.0,\"#f0f921\"]]}],\"mesh3d\":[{\"type\":\"mesh3d\",\"colorbar\":{\"outlinewidth\":0,\"ticks\":\"\"}}],\"scatter\":[{\"fillpattern\":{\"fillmode\":\"overlay\",\"size\":10,\"solidity\":0.2},\"type\":\"scatter\"}],\"parcoords\":[{\"type\":\"parcoords\",\"line\":{\"colorbar\":{\"outlinewidth\":0,\"ticks\":\"\"}}}],\"scatterpolargl\":[{\"type\":\"scatterpolargl\",\"marker\":{\"colorbar\":{\"outlinewidth\":0,\"ticks\":\"\"}}}],\"bar\":[{\"error_x\":{\"color\":\"#2a3f5f\"},\"error_y\":{\"color\":\"#2a3f5f\"},\"marker\":{\"line\":{\"color\":\"#E5ECF6\",\"width\":0.5},\"pattern\":{\"fillmode\":\"overlay\",\"size\":10,\"solidity\":0.2}},\"type\":\"bar\"}],\"scattergeo\":[{\"type\":\"scattergeo\",\"marker\":{\"colorbar\":{\"outlinewidth\":0,\"ticks\":\"\"}}}],\"scatterpolar\":[{\"type\":\"scatterpolar\",\"marker\":{\"colorbar\":{\"outlinewidth\":0,\"ticks\":\"\"}}}],\"histogram\":[{\"marker\":{\"pattern\":{\"fillmode\":\"overlay\",\"size\":10,\"solidity\":0.2}},\"type\":\"histogram\"}],\"scattergl\":[{\"type\":\"scattergl\",\"marker\":{\"colorbar\":{\"outlinewidth\":0,\"ticks\":\"\"}}}],\"scatter3d\":[{\"type\":\"scatter3d\",\"line\":{\"colorbar\":{\"outlinewidth\":0,\"ticks\":\"\"}},\"marker\":{\"colorbar\":{\"outlinewidth\":0,\"ticks\":\"\"}}}],\"scattermapbox\":[{\"type\":\"scattermapbox\",\"marker\":{\"colorbar\":{\"outlinewidth\":0,\"ticks\":\"\"}}}],\"scatterternary\":[{\"type\":\"scatterternary\",\"marker\":{\"colorbar\":{\"outlinewidth\":0,\"ticks\":\"\"}}}],\"scattercarpet\":[{\"type\":\"scattercarpet\",\"marker\":{\"colorbar\":{\"outlinewidth\":0,\"ticks\":\"\"}}}],\"carpet\":[{\"aaxis\":{\"endlinecolor\":\"#2a3f5f\",\"gridcolor\":\"white\",\"linecolor\":\"white\",\"minorgridcolor\":\"white\",\"startlinecolor\":\"#2a3f5f\"},\"baxis\":{\"endlinecolor\":\"#2a3f5f\",\"gridcolor\":\"white\",\"linecolor\":\"white\",\"minorgridcolor\":\"white\",\"startlinecolor\":\"#2a3f5f\"},\"type\":\"carpet\"}],\"table\":[{\"cells\":{\"fill\":{\"color\":\"#EBF0F8\"},\"line\":{\"color\":\"white\"}},\"header\":{\"fill\":{\"color\":\"#C8D4E3\"},\"line\":{\"color\":\"white\"}},\"type\":\"table\"}],\"barpolar\":[{\"marker\":{\"line\":{\"color\":\"#E5ECF6\",\"width\":0.5},\"pattern\":{\"fillmode\":\"overlay\",\"size\":10,\"solidity\":0.2}},\"type\":\"barpolar\"}],\"pie\":[{\"automargin\":true,\"type\":\"pie\"}]},\"layout\":{\"autotypenumbers\":\"strict\",\"colorway\":[\"#636efa\",\"#EF553B\",\"#00cc96\",\"#ab63fa\",\"#FFA15A\",\"#19d3f3\",\"#FF6692\",\"#B6E880\",\"#FF97FF\",\"#FECB52\"],\"font\":{\"color\":\"#2a3f5f\"},\"hovermode\":\"closest\",\"hoverlabel\":{\"align\":\"left\"},\"paper_bgcolor\":\"white\",\"plot_bgcolor\":\"#E5ECF6\",\"polar\":{\"bgcolor\":\"#E5ECF6\",\"angularaxis\":{\"gridcolor\":\"white\",\"linecolor\":\"white\",\"ticks\":\"\"},\"radialaxis\":{\"gridcolor\":\"white\",\"linecolor\":\"white\",\"ticks\":\"\"}},\"ternary\":{\"bgcolor\":\"#E5ECF6\",\"aaxis\":{\"gridcolor\":\"white\",\"linecolor\":\"white\",\"ticks\":\"\"},\"baxis\":{\"gridcolor\":\"white\",\"linecolor\":\"white\",\"ticks\":\"\"},\"caxis\":{\"gridcolor\":\"white\",\"linecolor\":\"white\",\"ticks\":\"\"}},\"coloraxis\":{\"colorbar\":{\"outlinewidth\":0,\"ticks\":\"\"}},\"colorscale\":{\"sequential\":[[0.0,\"#0d0887\"],[0.1111111111111111,\"#46039f\"],[0.2222222222222222,\"#7201a8\"],[0.3333333333333333,\"#9c179e\"],[0.4444444444444444,\"#bd3786\"],[0.5555555555555556,\"#d8576b\"],[0.6666666666666666,\"#ed7953\"],[0.7777777777777778,\"#fb9f3a\"],[0.8888888888888888,\"#fdca26\"],[1.0,\"#f0f921\"]],\"sequentialminus\":[[0.0,\"#0d0887\"],[0.1111111111111111,\"#46039f\"],[0.2222222222222222,\"#7201a8\"],[0.3333333333333333,\"#9c179e\"],[0.4444444444444444,\"#bd3786\"],[0.5555555555555556,\"#d8576b\"],[0.6666666666666666,\"#ed7953\"],[0.7777777777777778,\"#fb9f3a\"],[0.8888888888888888,\"#fdca26\"],[1.0,\"#f0f921\"]],\"diverging\":[[0,\"#8e0152\"],[0.1,\"#c51b7d\"],[0.2,\"#de77ae\"],[0.3,\"#f1b6da\"],[0.4,\"#fde0ef\"],[0.5,\"#f7f7f7\"],[0.6,\"#e6f5d0\"],[0.7,\"#b8e186\"],[0.8,\"#7fbc41\"],[0.9,\"#4d9221\"],[1,\"#276419\"]]},\"xaxis\":{\"gridcolor\":\"white\",\"linecolor\":\"white\",\"ticks\":\"\",\"title\":{\"standoff\":15},\"zerolinecolor\":\"white\",\"automargin\":true,\"zerolinewidth\":2},\"yaxis\":{\"gridcolor\":\"white\",\"linecolor\":\"white\",\"ticks\":\"\",\"title\":{\"standoff\":15},\"zerolinecolor\":\"white\",\"automargin\":true,\"zerolinewidth\":2},\"scene\":{\"xaxis\":{\"backgroundcolor\":\"#E5ECF6\",\"gridcolor\":\"white\",\"linecolor\":\"white\",\"showbackground\":true,\"ticks\":\"\",\"zerolinecolor\":\"white\",\"gridwidth\":2},\"yaxis\":{\"backgroundcolor\":\"#E5ECF6\",\"gridcolor\":\"white\",\"linecolor\":\"white\",\"showbackground\":true,\"ticks\":\"\",\"zerolinecolor\":\"white\",\"gridwidth\":2},\"zaxis\":{\"backgroundcolor\":\"#E5ECF6\",\"gridcolor\":\"white\",\"linecolor\":\"white\",\"showbackground\":true,\"ticks\":\"\",\"zerolinecolor\":\"white\",\"gridwidth\":2}},\"shapedefaults\":{\"line\":{\"color\":\"#2a3f5f\"}},\"annotationdefaults\":{\"arrowcolor\":\"#2a3f5f\",\"arrowhead\":0,\"arrowwidth\":1},\"geo\":{\"bgcolor\":\"white\",\"landcolor\":\"#E5ECF6\",\"subunitcolor\":\"white\",\"showland\":true,\"showlakes\":true,\"lakecolor\":\"white\"},\"title\":{\"x\":0.05},\"mapbox\":{\"style\":\"light\"}}},\"xaxis\":{\"anchor\":\"y\",\"domain\":[0.0,1.0],\"title\":{\"text\":\"Brand\"},\"categoryorder\":\"array\",\"categoryarray\":[\"Tesla \",\"Volkswagen \",\"Polestar \",\"BMW \",\"Honda \",\"Lucid \",\"Peugeot \",\"Audi \",\"Mercedes \",\"Nissan \",\"Hyundai \",\"Porsche \",\"MG \",\"Mini \",\"Opel \",\"Skoda \",\"Volvo \",\"Kia \",\"Renault \",\"Mazda \",\"Lexus \",\"CUPRA \",\"SEAT \",\"Lightyear \",\"Aiways \",\"DS \",\"Citroen \",\"Jaguar \",\"Ford \",\"Byton \",\"Sono \",\"Smart \",\"Fiat \"]},\"yaxis\":{\"anchor\":\"x\",\"domain\":[0.0,1.0],\"title\":{\"text\":\"TopSpeed_KmH\"}},\"legend\":{\"title\":{\"text\":\"Brand\"},\"tracegroupgap\":0},\"title\":{\"text\":\"Which Car Has a Top speed?\"},\"barmode\":\"relative\"},                        {\"responsive\": true}                    ).then(function(){\n",
       "                            \n",
       "var gd = document.getElementById('d86601d8-1a3f-4a9d-b733-1ecad35e8b64');\n",
       "var x = new MutationObserver(function (mutations, observer) {{\n",
       "        var display = window.getComputedStyle(gd).display;\n",
       "        if (!display || display === 'none') {{\n",
       "            console.log([gd, 'removed!']);\n",
       "            Plotly.purge(gd);\n",
       "            observer.disconnect();\n",
       "        }}\n",
       "}});\n",
       "\n",
       "// Listen for the removal of the full notebook cells\n",
       "var notebookContainer = gd.closest('#notebook-container');\n",
       "if (notebookContainer) {{\n",
       "    x.observe(notebookContainer, {childList: true});\n",
       "}}\n",
       "\n",
       "// Listen for the clearing of the current output cell\n",
       "var outputEl = gd.closest('.output');\n",
       "if (outputEl) {{\n",
       "    x.observe(outputEl, {childList: true});\n",
       "}}\n",
       "\n",
       "                        })                };                });            </script>        </div>"
      ]
     },
     "metadata": {},
     "output_type": "display_data"
    }
   ],
   "source": [
    "fig = px.bar(df,x='Brand',y = 'TopSpeed_KmH',color = 'Brand',title = 'Which Car Has a Top speed?',labels = {'x':'Car Brands','y':'Top Speed Km/H'})\n",
    "pio.show(fig)"
   ]
  },
  {
   "cell_type": "code",
   "execution_count": 216,
   "metadata": {},
   "outputs": [
    {
     "data": {
      "text/plain": [
       "179.19417475728156"
      ]
     },
     "execution_count": 216,
     "metadata": {},
     "output_type": "execute_result"
    }
   ],
   "source": [
    "df['TopSpeed_KmH'].mean()"
   ]
  },
  {
   "cell_type": "markdown",
   "metadata": {},
   "source": [
    "# Which car has fastest accelaration?"
   ]
  },
  {
   "cell_type": "code",
   "execution_count": 217,
   "metadata": {},
   "outputs": [
    {
     "data": {
      "text/plain": [
       "Text(0, 0.5, 'Acceleration')"
      ]
     },
     "execution_count": 217,
     "metadata": {},
     "output_type": "execute_result"
    },
    {
     "data": {
      "image/png": "[encoded data removed]",
      "text/plain": [
       "<Figure size 2160x720 with 1 Axes>"
      ]
     },
     "metadata": {},
     "output_type": "display_data"
    }
   ],
   "source": [
    "top_speed = plt.figure(figsize=(30,10))\n",
    "sns.barplot(x='Brand',y='AccelSec',data=df)\n",
    "plt.grid(axis='y')\n",
    "plt.title(\"Acceleration of EVs\")\n",
    "plt.xlabel(\"Brands\")\n",
    "plt.ylabel(\"Acceleration\")"
   ]
  },
  {
   "cell_type": "code",
   "execution_count": 218,
   "metadata": {},
   "outputs": [
    {
     "data": {
      "text/plain": [
       "7.396116504854368"
      ]
     },
     "execution_count": 218,
     "metadata": {},
     "output_type": "execute_result"
    }
   ],
   "source": [
    "df[\"AccelSec\"].mean()"
   ]
  },
  {
   "cell_type": "markdown",
   "metadata": {},
   "source": [
    "# Maximum range achived by a car"
   ]
  },
  {
   "cell_type": "code",
   "execution_count": 219,
   "metadata": {},
   "outputs": [
    {
     "data": {
      "text/plain": [
       "Text(0, 0.5, 'Range(Km)')"
      ]
     },
     "execution_count": 219,
     "metadata": {},
     "output_type": "execute_result"
    },
    {
     "data": {
      "image/png": "[encoded data removed]",
      "text/plain": [
       "<Figure size 1800x720 with 1 Axes>"
      ]
     },
     "metadata": {},
     "output_type": "display_data"
    }
   ],
   "source": [
    "range = plt.figure(figsize=(25,10))\n",
    "sns.barplot(x='Brand',y='Range_Km',data=df)\n",
    "plt.title(\"Range of EV Vehicles currently produced\")\n",
    "plt.xlabel(\"Brand\")\n",
    "plt.ylabel(\"Range(Km)\")\n"
   ]
  },
  {
   "cell_type": "code",
   "execution_count": 220,
   "metadata": {},
   "outputs": [
    {
     "data": {
      "text/plain": [
       "338.7864077669903"
      ]
     },
     "execution_count": 220,
     "metadata": {},
     "output_type": "execute_result"
    }
   ],
   "source": [
    "df['Range_Km'].mean()"
   ]
  },
  {
   "cell_type": "markdown",
   "metadata": {},
   "source": [
    "# Car Efficiency"
   ]
  },
  {
   "cell_type": "code",
   "execution_count": 221,
   "metadata": {},
   "outputs": [
    {
     "data": {
      "text/plain": [
       "Text(0, 0.5, 'Efficiency')"
      ]
     },
     "execution_count": 221,
     "metadata": {},
     "output_type": "execute_result"
    },
    {
     "data": {
      "image/png": "[encoded data removed]",
      "text/plain": [
       "<Figure size 1440x360 with 1 Axes>"
      ]
     },
     "metadata": {},
     "output_type": "display_data"
    }
   ],
   "source": [
    "ax= plt.figure(figsize=(20,5))\n",
    "sns.barplot(x='Brand',y='Efficiency_WhKm',data=df,palette='hls')\n",
    "plt.grid(axis='y')\n",
    "plt.title('Efficiency achieved by a brand')\n",
    "plt.xlabel('Brand')\n",
    "plt.ylabel('Efficiency')"
   ]
  },
  {
   "cell_type": "markdown",
   "metadata": {},
   "source": [
    "# Number of seats in car"
   ]
  },
  {
   "cell_type": "code",
   "execution_count": 222,
   "metadata": {},
   "outputs": [
    {
     "data": {
      "text/plain": [
       "Text(0, 0.5, 'Seats')"
      ]
     },
     "execution_count": 222,
     "metadata": {},
     "output_type": "execute_result"
    },
    {
     "data": {
      "image/png": "[encoded data removed]",
      "text/plain": [
       "<Figure size 1440x360 with 1 Axes>"
      ]
     },
     "metadata": {},
     "output_type": "display_data"
    }
   ],
   "source": [
    "ax= plt.figure(figsize=(20,5))\n",
    "sns.barplot(x='Brand',y='Seats',data=df,palette='husl')\n",
    "plt.grid(axis='y')\n",
    "plt.title('Seats in a car')\n",
    "plt.xlabel('Brand')\n",
    "plt.ylabel('Seats')"
   ]
  },
  {
   "cell_type": "markdown",
   "metadata": {},
   "source": [
    "# Cars and their body style"
   ]
  },
  {
   "cell_type": "code",
   "execution_count": 223,
   "metadata": {},
   "outputs": [
    {
     "data": {
      "text/plain": [
       "Text(0.5, 1.0, 'Body Style')"
      ]
     },
     "execution_count": 223,
     "metadata": {},
     "output_type": "execute_result"
    },
    {
     "data": {
      "image/png": "[encoded data removed]",
      "text/plain": [
       "<Figure size 576x1080 with 1 Axes>"
      ]
     },
     "metadata": {},
     "output_type": "display_data"
    }
   ],
   "source": [
    "df['BodyStyle'].value_counts().plot.pie(figsize=(8,15),autopct='%.0f%%',explode=(0.1,0.1,0.1,0.1,0.1,0.1,0.1,0.1,0.1))\n",
    "plt.title('Body Style')"
   ]
  },
  {
   "cell_type": "markdown",
   "metadata": {},
   "source": [
    "# Price of cars (in INR)"
   ]
  },
  {
   "cell_type": "code",
   "execution_count": 297,
   "metadata": {},
   "outputs": [
    {
     "data": {
      "text/plain": [
       "Text(0, 0.5, 'Frequency')"
      ]
     },
     "execution_count": 297,
     "metadata": {},
     "output_type": "execute_result"
    },
    {
     "data": {
      "image/png": "[encoded data removed]",
      "text/plain": [
       "<Figure size 1440x360 with 1 Axes>"
      ]
     },
     "metadata": {},
     "output_type": "display_data"
    }
   ],
   "source": [
    "ax= plt.figure(figsize=(20,5))\n",
    "sb.barplot(x='Brand',y='INR',data=df,palette='Set2')\n",
    "plt.title('Price of a Car')\n",
    "plt.xlabel('Price in INR')\n",
    "plt.grid(axis='y')\n",
    "plt.ylabel('Frequency')"
   ]
  },
  {
   "cell_type": "markdown",
   "metadata": {},
   "source": [
    "Lightyear, Porsche and Lucid are the most expensive and SEAT and Smart the least"
   ]
  },
  {
   "cell_type": "markdown",
   "metadata": {},
   "source": [
    "# Segment in which the cars fall under"
   ]
  },
  {
   "cell_type": "code",
   "execution_count": 298,
   "metadata": {},
   "outputs": [
    {
     "data": {
      "text/plain": [
       "Text(0.5, 1.0, 'Segment')"
      ]
     },
     "execution_count": 298,
     "metadata": {},
     "output_type": "execute_result"
    },
    {
     "data": {
      "image/png": "[encoded data removed]",
      "text/plain": [
       "<Figure size 576x1080 with 1 Axes>"
      ]
     },
     "metadata": {},
     "output_type": "display_data"
    }
   ],
   "source": [
    "df['Segment'].value_counts().plot.pie(figsize=(8,15),autopct='%.0f%%',explode=(0.1,0.1,0.1,0.1,0.1,0.1,0.1,0.1))\n",
    "plt.title('Segment')"
   ]
  },
  {
   "cell_type": "markdown",
   "metadata": {},
   "source": [
    "Most cars are either C or B type"
   ]
  },
  {
   "cell_type": "markdown",
   "metadata": {},
   "source": [
    "# plug type"
   ]
  },
  {
   "cell_type": "code",
   "execution_count": 224,
   "metadata": {},
   "outputs": [
    {
     "data": {
      "text/plain": [
       "<AxesSubplot:ylabel='PlugType'>"
      ]
     },
     "execution_count": 224,
     "metadata": {},
     "output_type": "execute_result"
    },
    {
     "data": {
      "image/png": "[encoded data removed]",
      "text/plain": [
       "<Figure size 720x360 with 1 Axes>"
      ]
     },
     "metadata": {},
     "output_type": "display_data"
    }
   ],
   "source": [
    "plug_type = plt.figure(figsize=(10,5))\n",
    "df['PlugType'].value_counts().plot.pie()\n"
   ]
  },
  {
   "cell_type": "markdown",
   "metadata": {},
   "source": [
    "- The pie chart shows that most EV producers use Type2 CCS cables\n"
   ]
  },
  {
   "cell_type": "markdown",
   "metadata": {},
   "source": [
    "# Drive Train Affect on Range"
   ]
  },
  {
   "cell_type": "code",
   "execution_count": 225,
   "metadata": {},
   "outputs": [
    {
     "data": {
      "text/plain": [
       "Text(0, 0.5, 'Range(Km)')"
      ]
     },
     "execution_count": 225,
     "metadata": {},
     "output_type": "execute_result"
    },
    {
     "data": {
      "image/png": "[encoded data removed]",
      "text/plain": [
       "<Figure size 720x360 with 1 Axes>"
      ]
     },
     "metadata": {},
     "output_type": "display_data"
    }
   ],
   "source": [
    "rng_dt = plt.figure(figsize=(10,5))\n",
    "sns.barplot(data=df,x='PowerTrain',y='Range_Km')\n",
    "plt.title(\"Drive Train Affect on Range\")\n",
    "plt.xlabel(\"DriveTrain\")\n",
    "plt.ylabel(\"Range(Km)\")\n"
   ]
  },
  {
   "cell_type": "markdown",
   "metadata": {},
   "source": [
    "# Heatmap to show the correlation of the data"
   ]
  },
  {
   "cell_type": "code",
   "execution_count": 226,
   "metadata": {},
   "outputs": [
    {
     "data": {
      "text/plain": [
       "<AxesSubplot:>"
      ]
     },
     "execution_count": 226,
     "metadata": {},
     "output_type": "execute_result"
    },
    {
     "data": {
      "image/png": "[encoded data removed]",
      "text/plain": [
       "<Figure size 720x360 with 2 Axes>"
      ]
     },
     "metadata": {},
     "output_type": "display_data"
    }
   ],
   "source": [
    "heatmap = plt.figure(figsize=(10,5))\n",
    "sns.heatmap(df.corr(), center=0,cmap = 'Greens',annot=True)"
   ]
  },
  {
   "cell_type": "markdown",
   "metadata": {},
   "source": [
    "# Checking for normal distribution of data"
   ]
  },
  {
   "cell_type": "code",
   "execution_count": 227,
   "metadata": {},
   "outputs": [
    {
     "data": {
      "image/png": "[encoded data removed]",
      "text/plain": [
       "<Figure size 1800x720 with 8 Axes>"
      ]
     },
     "metadata": {},
     "output_type": "display_data"
    }
   ],
   "source": [
    "plt.figure(figsize=(25, 10))\n",
    "col = 1\n",
    "\n",
    "for i in df.columns:\n",
    "    if df[i].dtype == \"object\":\n",
    "        continue\n",
    "    elif col<14:\n",
    "        plt.subplot(2, 6, col)\n",
    "        sns.histplot(df[i], kde=True, linewidth=0)\n",
    "        plt.xlabel(i, y=-0.1, fontsize=18)\n",
    "    col=col+1"
   ]
  },
  {
   "cell_type": "markdown",
   "metadata": {},
   "source": [
    "# Regression"
   ]
  },
  {
   "cell_type": "markdown",
   "metadata": {},
   "source": [
    "# Spliting the Feature And Target"
   ]
  },
  {
   "cell_type": "code",
   "execution_count": 228,
   "metadata": {},
   "outputs": [],
   "source": [
    "df['PowerTrain'].replace(to_replace=['RWD','AWD','FWD'],value=[0, 2,1],inplace=True)\n",
    "x=df[['AccelSec','Range_Km','TopSpeed_KmH','Efficiency_WhKm', 'RapidCharge','PowerTrain']]\n",
    "y=df['PriceEuro']"
   ]
  },
  {
   "cell_type": "code",
   "execution_count": 229,
   "metadata": {},
   "outputs": [],
   "source": [
    "x_train, x_test, y_train, y_test = train_test_split(x, y, test_size=0.3,random_state=21)\n"
   ]
  },
  {
   "cell_type": "markdown",
   "metadata": {},
   "source": [
    "# Linear Regression"
   ]
  },
  {
   "cell_type": "code",
   "execution_count": 230,
   "metadata": {},
   "outputs": [],
   "source": [
    "lr= LinearRegression()\n",
    "lr.fit(x_train, y_train)\n",
    "pred = lr.predict(x_test)"
   ]
  },
  {
   "cell_type": "code",
   "execution_count": 231,
   "metadata": {},
   "outputs": [],
   "source": [
    "from sklearn.metrics import r2_score,silhouette_score,confusion_matrix,accuracy_score"
   ]
  },
  {
   "cell_type": "markdown",
   "metadata": {},
   "source": [
    "# Finding out R-Squared value"
   ]
  },
  {
   "cell_type": "code",
   "execution_count": 251,
   "metadata": {},
   "outputs": [
    {
     "name": "stdout",
     "output_type": "stream",
     "text": [
      "93.43913860065601\n"
     ]
    }
   ],
   "source": [
    "r2=(r2_score(y_test,pred))\n",
    "print(r2*100)"
   ]
  },
  {
   "cell_type": "markdown",
   "metadata": {},
   "source": [
    "Around 93% of the dependant variable has been explained by the independant variables"
   ]
  },
  {
   "cell_type": "markdown",
   "metadata": {},
   "source": [
    "# Logistic Regression"
   ]
  },
  {
   "cell_type": "code",
   "execution_count": 252,
   "metadata": {},
   "outputs": [],
   "source": [
    "y1=df[['RapidCharge']]\n",
    "x1=df[['PriceEuro']]"
   ]
  },
  {
   "cell_type": "code",
   "execution_count": 253,
   "metadata": {},
   "outputs": [],
   "source": [
    "X1_train, X1_test, y1_train, y1_test = train_test_split(x1, y1, test_size=0.2,random_state=365)"
   ]
  },
  {
   "cell_type": "code",
   "execution_count": 235,
   "metadata": {},
   "outputs": [
    {
     "data": {
      "text/plain": [
       "array([1, 1, 1, 1, 1, 1, 1, 1, 1, 1, 1, 1, 1, 1, 1, 1, 1, 1, 1, 1, 1],\n",
       "      dtype=int64)"
      ]
     },
     "execution_count": 235,
     "metadata": {},
     "output_type": "execute_result"
    }
   ],
   "source": [
    "log= LogisticRegression()\n",
    "log.fit(X1_train, y1_train)\n",
    "pred1 = log.predict(X1_test)\n",
    "pred1"
   ]
  },
  {
   "cell_type": "markdown",
   "metadata": {},
   "source": [
    "# Confusion Matrix of the regression"
   ]
  },
  {
   "cell_type": "code",
   "execution_count": 236,
   "metadata": {},
   "outputs": [
    {
     "data": {
      "text/plain": [
       "array([[ 0,  1],\n",
       "       [ 0, 20]], dtype=int64)"
      ]
     },
     "execution_count": 236,
     "metadata": {},
     "output_type": "execute_result"
    }
   ],
   "source": [
    "confusion_matrix(y1_test, pred1)\n"
   ]
  },
  {
   "cell_type": "markdown",
   "metadata": {},
   "source": [
    "# Accuracy of the model"
   ]
  },
  {
   "cell_type": "code",
   "execution_count": 254,
   "metadata": {},
   "outputs": [
    {
     "data": {
      "text/plain": [
       "90.9090909090909"
      ]
     },
     "execution_count": 254,
     "metadata": {},
     "output_type": "execute_result"
    }
   ],
   "source": [
    "(20+0)/(0+1+0+21)*100"
   ]
  },
  {
   "cell_type": "markdown",
   "metadata": {},
   "source": [
    "# Clustering"
   ]
  },
  {
   "cell_type": "code",
   "execution_count": 237,
   "metadata": {},
   "outputs": [
    {
     "data": {
      "text/plain": [
       "<AxesSubplot:xlabel='TopSpeed_KmH', ylabel='FastCharge_KmH'>"
      ]
     },
     "execution_count": 237,
     "metadata": {},
     "output_type": "execute_result"
    },
    {
     "data": {
      "image/png": "[encoded data removed]",
      "text/plain": [
       "<Figure size 1080x576 with 1 Axes>"
      ]
     },
     "metadata": {},
     "output_type": "display_data"
    }
   ],
   "source": [
    "ax=plt.subplots(figsize=(15,8))\n",
    "sns.stripplot(x='TopSpeed_KmH', y='FastCharge_KmH', data=df, jitter=True)"
   ]
  },
  {
   "cell_type": "code",
   "execution_count": 238,
   "metadata": {},
   "outputs": [
    {
     "data": {
      "text/plain": [
       "<AxesSubplot:xlabel='TopSpeed_KmH', ylabel='Efficiency_WhKm'>"
      ]
     },
     "execution_count": 238,
     "metadata": {},
     "output_type": "execute_result"
    },
    {
     "data": {
      "image/png": "[encoded data removed]",
      "text/plain": [
       "<Figure size 1080x576 with 1 Axes>"
      ]
     },
     "metadata": {},
     "output_type": "display_data"
    }
   ],
   "source": [
    "ax=plt.subplots(figsize=(15,8))\n",
    "sns.stripplot(x='TopSpeed_KmH', y='Efficiency_WhKm', data=df, jitter=True)"
   ]
  },
  {
   "cell_type": "markdown",
   "metadata": {},
   "source": [
    "# Separating out the features"
   ]
  },
  {
   "cell_type": "code",
   "execution_count": 255,
   "metadata": {},
   "outputs": [],
   "source": [
    "features = ['AccelSec','TopSpeed_KmH','Efficiency_WhKm','FastCharge_KmH', 'RapidCharge','Range_Km', 'Seats', 'INR','PowerTrain']\n",
    "x = df.loc[:, features].values\n",
    "x = StandardScaler().fit_transform(x)"
   ]
  },
  {
   "cell_type": "code",
   "execution_count": 256,
   "metadata": {},
   "outputs": [
    {
     "data": {
      "text/html": [
       "<div>\n",
       "<style scoped>\n",
       "    .dataframe tbody tr th:only-of-type {\n",
       "        vertical-align: middle;\n",
       "    }\n",
       "\n",
       "    .dataframe tbody tr th {\n",
       "        vertical-align: top;\n",
       "    }\n",
       "\n",
       "    .dataframe thead th {\n",
       "        text-align: right;\n",
       "    }\n",
       "</style>\n",
       "<table border=\"1\" class=\"dataframe\">\n",
       "  <thead>\n",
       "    <tr style=\"text-align: right;\">\n",
       "      <th></th>\n",
       "      <th>PC1</th>\n",
       "      <th>PC2</th>\n",
       "      <th>PC3</th>\n",
       "      <th>PC4</th>\n",
       "      <th>Pc5</th>\n",
       "      <th>PC6</th>\n",
       "      <th>PC7</th>\n",
       "      <th>PC8</th>\n",
       "      <th>PC9</th>\n",
       "    </tr>\n",
       "  </thead>\n",
       "  <tbody>\n",
       "    <tr>\n",
       "      <th>0</th>\n",
       "      <td>2.224529</td>\n",
       "      <td>0.353020</td>\n",
       "      <td>-1.172340</td>\n",
       "      <td>-0.227420</td>\n",
       "      <td>0.956940</td>\n",
       "      <td>-1.379811</td>\n",
       "      <td>0.309006</td>\n",
       "      <td>0.310442</td>\n",
       "      <td>-0.460404</td>\n",
       "    </tr>\n",
       "    <tr>\n",
       "      <th>1</th>\n",
       "      <td>-1.974424</td>\n",
       "      <td>-0.549435</td>\n",
       "      <td>-0.701227</td>\n",
       "      <td>0.556573</td>\n",
       "      <td>0.006968</td>\n",
       "      <td>0.525989</td>\n",
       "      <td>-0.436673</td>\n",
       "      <td>-0.130980</td>\n",
       "      <td>-0.288194</td>\n",
       "    </tr>\n",
       "    <tr>\n",
       "      <th>2</th>\n",
       "      <td>1.621019</td>\n",
       "      <td>0.060299</td>\n",
       "      <td>-0.414612</td>\n",
       "      <td>-0.474315</td>\n",
       "      <td>0.341439</td>\n",
       "      <td>-0.930066</td>\n",
       "      <td>0.184331</td>\n",
       "      <td>-0.009001</td>\n",
       "      <td>-0.121834</td>\n",
       "    </tr>\n",
       "    <tr>\n",
       "      <th>3</th>\n",
       "      <td>0.349006</td>\n",
       "      <td>-0.020691</td>\n",
       "      <td>-0.252694</td>\n",
       "      <td>1.596206</td>\n",
       "      <td>-0.520624</td>\n",
       "      <td>0.180619</td>\n",
       "      <td>-0.237423</td>\n",
       "      <td>0.558036</td>\n",
       "      <td>0.126995</td>\n",
       "    </tr>\n",
       "    <tr>\n",
       "      <th>4</th>\n",
       "      <td>-2.652187</td>\n",
       "      <td>0.262267</td>\n",
       "      <td>-0.744605</td>\n",
       "      <td>-0.016848</td>\n",
       "      <td>-0.999050</td>\n",
       "      <td>0.461889</td>\n",
       "      <td>-0.469053</td>\n",
       "      <td>0.024237</td>\n",
       "      <td>-0.135937</td>\n",
       "    </tr>\n",
       "    <tr>\n",
       "      <th>...</th>\n",
       "      <td>...</td>\n",
       "      <td>...</td>\n",
       "      <td>...</td>\n",
       "      <td>...</td>\n",
       "      <td>...</td>\n",
       "      <td>...</td>\n",
       "      <td>...</td>\n",
       "      <td>...</td>\n",
       "      <td>...</td>\n",
       "    </tr>\n",
       "    <tr>\n",
       "      <th>98</th>\n",
       "      <td>-0.304940</td>\n",
       "      <td>-0.437884</td>\n",
       "      <td>-0.069730</td>\n",
       "      <td>0.161721</td>\n",
       "      <td>-0.184879</td>\n",
       "      <td>-0.107721</td>\n",
       "      <td>0.187125</td>\n",
       "      <td>0.099246</td>\n",
       "      <td>0.115962</td>\n",
       "    </tr>\n",
       "    <tr>\n",
       "      <th>99</th>\n",
       "      <td>2.336610</td>\n",
       "      <td>0.114442</td>\n",
       "      <td>1.757848</td>\n",
       "      <td>-0.121440</td>\n",
       "      <td>-1.119992</td>\n",
       "      <td>-0.006020</td>\n",
       "      <td>-0.224293</td>\n",
       "      <td>0.317450</td>\n",
       "      <td>0.082739</td>\n",
       "    </tr>\n",
       "    <tr>\n",
       "      <th>100</th>\n",
       "      <td>0.750440</td>\n",
       "      <td>-0.218703</td>\n",
       "      <td>0.252519</td>\n",
       "      <td>-0.838994</td>\n",
       "      <td>-0.062858</td>\n",
       "      <td>-0.490966</td>\n",
       "      <td>-0.093426</td>\n",
       "      <td>-0.294197</td>\n",
       "      <td>-0.241560</td>\n",
       "    </tr>\n",
       "    <tr>\n",
       "      <th>101</th>\n",
       "      <td>1.511012</td>\n",
       "      <td>-0.199861</td>\n",
       "      <td>1.112363</td>\n",
       "      <td>-0.377564</td>\n",
       "      <td>-0.660675</td>\n",
       "      <td>-0.151851</td>\n",
       "      <td>0.142496</td>\n",
       "      <td>-0.379005</td>\n",
       "      <td>-0.063483</td>\n",
       "    </tr>\n",
       "    <tr>\n",
       "      <th>102</th>\n",
       "      <td>1.274443</td>\n",
       "      <td>-0.302916</td>\n",
       "      <td>1.362474</td>\n",
       "      <td>-0.194284</td>\n",
       "      <td>-0.433124</td>\n",
       "      <td>0.105962</td>\n",
       "      <td>0.680563</td>\n",
       "      <td>0.015429</td>\n",
       "      <td>-0.380843</td>\n",
       "    </tr>\n",
       "  </tbody>\n",
       "</table>\n",
       "<p>103 rows × 9 columns</p>\n",
       "</div>"
      ],
      "text/plain": [
       "          PC1       PC2       PC3       PC4       Pc5       PC6       PC7  \\\n",
       "0    2.224529  0.353020 -1.172340 -0.227420  0.956940 -1.379811  0.309006   \n",
       "1   -1.974424 -0.549435 -0.701227  0.556573  0.006968  0.525989 -0.436673   \n",
       "2    1.621019  0.060299 -0.414612 -0.474315  0.341439 -0.930066  0.184331   \n",
       "3    0.349006 -0.020691 -0.252694  1.596206 -0.520624  0.180619 -0.237423   \n",
       "4   -2.652187  0.262267 -0.744605 -0.016848 -0.999050  0.461889 -0.469053   \n",
       "..        ...       ...       ...       ...       ...       ...       ...   \n",
       "98  -0.304940 -0.437884 -0.069730  0.161721 -0.184879 -0.107721  0.187125   \n",
       "99   2.336610  0.114442  1.757848 -0.121440 -1.119992 -0.006020 -0.224293   \n",
       "100  0.750440 -0.218703  0.252519 -0.838994 -0.062858 -0.490966 -0.093426   \n",
       "101  1.511012 -0.199861  1.112363 -0.377564 -0.660675 -0.151851  0.142496   \n",
       "102  1.274443 -0.302916  1.362474 -0.194284 -0.433124  0.105962  0.680563   \n",
       "\n",
       "          PC8       PC9  \n",
       "0    0.310442 -0.460404  \n",
       "1   -0.130980 -0.288194  \n",
       "2   -0.009001 -0.121834  \n",
       "3    0.558036  0.126995  \n",
       "4    0.024237 -0.135937  \n",
       "..        ...       ...  \n",
       "98   0.099246  0.115962  \n",
       "99   0.317450  0.082739  \n",
       "100 -0.294197 -0.241560  \n",
       "101 -0.379005 -0.063483  \n",
       "102  0.015429 -0.380843  \n",
       "\n",
       "[103 rows x 9 columns]"
      ]
     },
     "execution_count": 256,
     "metadata": {},
     "output_type": "execute_result"
    }
   ],
   "source": [
    "pca = PCA(n_components=9)\n",
    "t = pca.fit_transform(x)\n",
    "data2 = pd.DataFrame(t, columns=['PC1', 'PC2','PC3','PC4','Pc5','PC6', 'PC7', 'PC8','PC9'])\n",
    "data2"
   ]
  },
  {
   "cell_type": "code",
   "execution_count": 257,
   "metadata": {},
   "outputs": [
    {
     "data": {
      "text/html": [
       "<div>\n",
       "<style scoped>\n",
       "    .dataframe tbody tr th:only-of-type {\n",
       "        vertical-align: middle;\n",
       "    }\n",
       "\n",
       "    .dataframe tbody tr th {\n",
       "        vertical-align: top;\n",
       "    }\n",
       "\n",
       "    .dataframe thead th {\n",
       "        text-align: right;\n",
       "    }\n",
       "</style>\n",
       "<table border=\"1\" class=\"dataframe\">\n",
       "  <thead>\n",
       "    <tr style=\"text-align: right;\">\n",
       "      <th></th>\n",
       "      <th>PC1</th>\n",
       "      <th>PC2</th>\n",
       "      <th>PC3</th>\n",
       "      <th>PC4</th>\n",
       "      <th>Pc5</th>\n",
       "      <th>PC6</th>\n",
       "      <th>PC7</th>\n",
       "      <th>PC8</th>\n",
       "      <th>PC9</th>\n",
       "    </tr>\n",
       "  </thead>\n",
       "  <tbody>\n",
       "    <tr>\n",
       "      <th>0</th>\n",
       "      <td>2.224529</td>\n",
       "      <td>0.353020</td>\n",
       "      <td>-1.172340</td>\n",
       "      <td>-0.227420</td>\n",
       "      <td>0.956940</td>\n",
       "      <td>-1.379811</td>\n",
       "      <td>0.309006</td>\n",
       "      <td>0.310442</td>\n",
       "      <td>-0.460404</td>\n",
       "    </tr>\n",
       "    <tr>\n",
       "      <th>1</th>\n",
       "      <td>-1.974424</td>\n",
       "      <td>-0.549435</td>\n",
       "      <td>-0.701227</td>\n",
       "      <td>0.556573</td>\n",
       "      <td>0.006968</td>\n",
       "      <td>0.525989</td>\n",
       "      <td>-0.436673</td>\n",
       "      <td>-0.130980</td>\n",
       "      <td>-0.288194</td>\n",
       "    </tr>\n",
       "    <tr>\n",
       "      <th>2</th>\n",
       "      <td>1.621019</td>\n",
       "      <td>0.060299</td>\n",
       "      <td>-0.414612</td>\n",
       "      <td>-0.474315</td>\n",
       "      <td>0.341439</td>\n",
       "      <td>-0.930066</td>\n",
       "      <td>0.184331</td>\n",
       "      <td>-0.009001</td>\n",
       "      <td>-0.121834</td>\n",
       "    </tr>\n",
       "    <tr>\n",
       "      <th>3</th>\n",
       "      <td>0.349006</td>\n",
       "      <td>-0.020691</td>\n",
       "      <td>-0.252694</td>\n",
       "      <td>1.596206</td>\n",
       "      <td>-0.520624</td>\n",
       "      <td>0.180619</td>\n",
       "      <td>-0.237423</td>\n",
       "      <td>0.558036</td>\n",
       "      <td>0.126995</td>\n",
       "    </tr>\n",
       "    <tr>\n",
       "      <th>4</th>\n",
       "      <td>-2.652187</td>\n",
       "      <td>0.262267</td>\n",
       "      <td>-0.744605</td>\n",
       "      <td>-0.016848</td>\n",
       "      <td>-0.999050</td>\n",
       "      <td>0.461889</td>\n",
       "      <td>-0.469053</td>\n",
       "      <td>0.024237</td>\n",
       "      <td>-0.135937</td>\n",
       "    </tr>\n",
       "  </tbody>\n",
       "</table>\n",
       "</div>"
      ],
      "text/plain": [
       "        PC1       PC2       PC3       PC4       Pc5       PC6       PC7  \\\n",
       "0  2.224529  0.353020 -1.172340 -0.227420  0.956940 -1.379811  0.309006   \n",
       "1 -1.974424 -0.549435 -0.701227  0.556573  0.006968  0.525989 -0.436673   \n",
       "2  1.621019  0.060299 -0.414612 -0.474315  0.341439 -0.930066  0.184331   \n",
       "3  0.349006 -0.020691 -0.252694  1.596206 -0.520624  0.180619 -0.237423   \n",
       "4 -2.652187  0.262267 -0.744605 -0.016848 -0.999050  0.461889 -0.469053   \n",
       "\n",
       "        PC8       PC9  \n",
       "0  0.310442 -0.460404  \n",
       "1 -0.130980 -0.288194  \n",
       "2 -0.009001 -0.121834  \n",
       "3  0.558036  0.126995  \n",
       "4  0.024237 -0.135937  "
      ]
     },
     "execution_count": 257,
     "metadata": {},
     "output_type": "execute_result"
    }
   ],
   "source": [
    "df_9=data2.iloc[:,:9]\n",
    "df_9.head(5)"
   ]
  },
  {
   "cell_type": "markdown",
   "metadata": {},
   "source": [
    "# Dendrogram"
   ]
  },
  {
   "cell_type": "code",
   "execution_count": 292,
   "metadata": {},
   "outputs": [],
   "source": [
    "from scipy.cluster.hierarchy import dendrogram, linkage"
   ]
  },
  {
   "cell_type": "code",
   "execution_count": 293,
   "metadata": {},
   "outputs": [
    {
     "data": {
      "image/png": "[encoded data removed]",
      "text/plain": [
       "<Figure size 936x648 with 1 Axes>"
      ]
     },
     "metadata": {},
     "output_type": "display_data"
    }
   ],
   "source": [
    "linked = linkage(data2, 'complete')\n",
    "plt.figure(figsize=(13, 9))\n",
    "dendrogram(linked, orientation='top')\n",
    "plt.show()"
   ]
  },
  {
   "cell_type": "markdown",
   "metadata": {},
   "source": [
    "# Screenplot"
   ]
  },
  {
   "cell_type": "code",
   "execution_count": 294,
   "metadata": {},
   "outputs": [
    {
     "data": {
      "image/png": "[encoded data removed]",
      "text/plain": [
       "<Figure size 432x288 with 1 Axes>"
      ]
     },
     "metadata": {},
     "output_type": "display_data"
    }
   ],
   "source": [
    "PC_values = np.arange(pca.n_components_) + 1\n",
    "plt.plot(PC_values, pca.explained_variance_ratio_, 'o-', linewidth=2, color='blue')\n",
    "plt.title('Scree Plot')\n",
    "plt.xlabel('Principal Component')\n",
    "plt.ylabel('Variance Explained')\n",
    "plt.show()"
   ]
  },
  {
   "cell_type": "markdown",
   "metadata": {},
   "source": [
    "# Regression for PCA(Data2)"
   ]
  },
  {
   "cell_type": "code",
   "execution_count": 273,
   "metadata": {},
   "outputs": [],
   "source": [
    "X=data2[['PC1', 'PC2','PC3','PC4','Pc5','PC6', 'PC7','PC8','PC9']]\n",
    "y=df['INR']"
   ]
  },
  {
   "cell_type": "code",
   "execution_count": 277,
   "metadata": {},
   "outputs": [],
   "source": [
    "X_train, X_test, y_train, y_test = train_test_split(X, y,test_size=0.3, random_state=21)\n",
    "ls=LinearRegression().fit(X_train,y_train)"
   ]
  },
  {
   "cell_type": "code",
   "execution_count": 278,
   "metadata": {},
   "outputs": [
    {
     "data": {
      "text/plain": [
       "4643.522050485438"
      ]
     },
     "execution_count": 278,
     "metadata": {},
     "output_type": "execute_result"
    }
   ],
   "source": [
    "ls.intercept_"
   ]
  },
  {
   "cell_type": "code",
   "execution_count": 279,
   "metadata": {},
   "outputs": [
    {
     "data": {
      "text/plain": [
       "array([1061.42554674,  920.77714129,  190.08894001, -264.41258254,\n",
       "        185.54152362, 1652.17431742, -784.78832366, 1073.55879753,\n",
       "       1172.29994606])"
      ]
     },
     "execution_count": 279,
     "metadata": {},
     "output_type": "execute_result"
    }
   ],
   "source": [
    "ls.coef_"
   ]
  },
  {
   "cell_type": "code",
   "execution_count": 282,
   "metadata": {},
   "outputs": [
    {
     "data": {
      "text/html": [
       "<div>\n",
       "<style scoped>\n",
       "    .dataframe tbody tr th:only-of-type {\n",
       "        vertical-align: middle;\n",
       "    }\n",
       "\n",
       "    .dataframe tbody tr th {\n",
       "        vertical-align: top;\n",
       "    }\n",
       "\n",
       "    .dataframe thead th {\n",
       "        text-align: right;\n",
       "    }\n",
       "</style>\n",
       "<table border=\"1\" class=\"dataframe\">\n",
       "  <thead>\n",
       "    <tr style=\"text-align: right;\">\n",
       "      <th></th>\n",
       "      <th>Coeff</th>\n",
       "    </tr>\n",
       "  </thead>\n",
       "  <tbody>\n",
       "    <tr>\n",
       "      <th>PC1</th>\n",
       "      <td>1061.425547</td>\n",
       "    </tr>\n",
       "    <tr>\n",
       "      <th>PC2</th>\n",
       "      <td>920.777141</td>\n",
       "    </tr>\n",
       "    <tr>\n",
       "      <th>PC3</th>\n",
       "      <td>190.088940</td>\n",
       "    </tr>\n",
       "    <tr>\n",
       "      <th>PC4</th>\n",
       "      <td>-264.412583</td>\n",
       "    </tr>\n",
       "    <tr>\n",
       "      <th>Pc5</th>\n",
       "      <td>185.541524</td>\n",
       "    </tr>\n",
       "    <tr>\n",
       "      <th>PC6</th>\n",
       "      <td>1652.174317</td>\n",
       "    </tr>\n",
       "    <tr>\n",
       "      <th>PC7</th>\n",
       "      <td>-784.788324</td>\n",
       "    </tr>\n",
       "    <tr>\n",
       "      <th>PC8</th>\n",
       "      <td>1073.558798</td>\n",
       "    </tr>\n",
       "    <tr>\n",
       "      <th>PC9</th>\n",
       "      <td>1172.299946</td>\n",
       "    </tr>\n",
       "  </tbody>\n",
       "</table>\n",
       "</div>"
      ],
      "text/plain": [
       "           Coeff\n",
       "PC1  1061.425547\n",
       "PC2   920.777141\n",
       "PC3   190.088940\n",
       "PC4  -264.412583\n",
       "Pc5   185.541524\n",
       "PC6  1652.174317\n",
       "PC7  -784.788324\n",
       "PC8  1073.558798\n",
       "PC9  1172.299946"
      ]
     },
     "execution_count": 282,
     "metadata": {},
     "output_type": "execute_result"
    }
   ],
   "source": [
    "cof=pd.DataFrame(ls.coef_, X.columns, columns=['Coeff'])\n",
    "cof"
   ]
  },
  {
   "cell_type": "code",
   "execution_count": 283,
   "metadata": {},
   "outputs": [
    {
     "data": {
      "text/plain": [
       "array([ 3486.5792, 10400.    ,  2858.8352,  4877.184 ,  5408.    ,\n",
       "        2999.9424,  2862.08  ,  5233.28  , 17888.    ,  2043.808 ,\n",
       "        3744.    ,  4160.    ,  2432.2688,  6655.168 ,  3243.7184,\n",
       "        5786.6432,  1832.896 ,  3744.    ,  2766.0672,  3170.336 ,\n",
       "        1782.2272,  5781.0688,  6792.3648,  2912.    ,  3064.8384,\n",
       "        2912.    ,  3120.    ,  5028.3584,  8565.024 ,  2635.8592,\n",
       "        2496.    ])"
      ]
     },
     "execution_count": 283,
     "metadata": {},
     "output_type": "execute_result"
    }
   ],
   "source": [
    "predict=ls.predict(X_test)\n",
    "predict"
   ]
  },
  {
   "cell_type": "code",
   "execution_count": 284,
   "metadata": {},
   "outputs": [
    {
     "data": {
      "text/plain": [
       "<matplotlib.collections.PathCollection at 0x186c38c1700>"
      ]
     },
     "execution_count": 284,
     "metadata": {},
     "output_type": "execute_result"
    },
    {
     "data": {
      "image/png": "[encoded data removed]",
      "text/plain": [
       "<Figure size 432x288 with 1 Axes>"
      ]
     },
     "metadata": {},
     "output_type": "display_data"
    }
   ],
   "source": [
    "plt.scatter(y_test, predict)"
   ]
  },
  {
   "cell_type": "code",
   "execution_count": 285,
   "metadata": {},
   "outputs": [
    {
     "data": {
      "text/plain": [
       "<AxesSubplot:xlabel='INR', ylabel='Density'>"
      ]
     },
     "execution_count": 285,
     "metadata": {},
     "output_type": "execute_result"
    },
    {
     "data": {
      "image/png": "[encoded data removed]",
      "text/plain": [
       "<Figure size 432x288 with 1 Axes>"
      ]
     },
     "metadata": {},
     "output_type": "display_data"
    }
   ],
   "source": [
    "sb.distplot((y_test-predict))"
   ]
  },
  {
   "cell_type": "code",
   "execution_count": 289,
   "metadata": {},
   "outputs": [],
   "source": [
    "from sklearn import metrics"
   ]
  },
  {
   "cell_type": "code",
   "execution_count": 291,
   "metadata": {},
   "outputs": [
    {
     "name": "stdout",
     "output_type": "stream",
     "text": [
      "MAE: 2.5011104298755527e-12\n",
      "MSE: 9.46754906746681e-24\n",
      "RMSE: 3.0769382618874253e-12\n"
     ]
    }
   ],
   "source": [
    "print('MAE:',metrics.mean_absolute_error(y_test,predict))\n",
    "print('MSE:',metrics.mean_squared_error(y_test,predict))\n",
    "print('RMSE:',np.sqrt(metrics.mean_squared_error(y_test,predict)))"
   ]
  },
  {
   "cell_type": "markdown",
   "metadata": {},
   "source": [
    "# K-Means Clustering Algorithm"
   ]
  },
  {
   "cell_type": "code",
   "execution_count": 21,
   "metadata": {},
   "outputs": [
    {
     "data": {
      "text/html": [
       "<div>\n",
       "<style scoped>\n",
       "    .dataframe tbody tr th:only-of-type {\n",
       "        vertical-align: middle;\n",
       "    }\n",
       "\n",
       "    .dataframe tbody tr th {\n",
       "        vertical-align: top;\n",
       "    }\n",
       "\n",
       "    .dataframe thead th {\n",
       "        text-align: right;\n",
       "    }\n",
       "</style>\n",
       "<table border=\"1\" class=\"dataframe\">\n",
       "  <thead>\n",
       "    <tr style=\"text-align: right;\">\n",
       "      <th></th>\n",
       "      <th>TopSpeed_KmH</th>\n",
       "      <th>Range_Km</th>\n",
       "    </tr>\n",
       "  </thead>\n",
       "  <tbody>\n",
       "    <tr>\n",
       "      <th>0</th>\n",
       "      <td>233</td>\n",
       "      <td>450</td>\n",
       "    </tr>\n",
       "    <tr>\n",
       "      <th>1</th>\n",
       "      <td>160</td>\n",
       "      <td>270</td>\n",
       "    </tr>\n",
       "    <tr>\n",
       "      <th>2</th>\n",
       "      <td>210</td>\n",
       "      <td>400</td>\n",
       "    </tr>\n",
       "    <tr>\n",
       "      <th>3</th>\n",
       "      <td>180</td>\n",
       "      <td>360</td>\n",
       "    </tr>\n",
       "    <tr>\n",
       "      <th>4</th>\n",
       "      <td>145</td>\n",
       "      <td>170</td>\n",
       "    </tr>\n",
       "    <tr>\n",
       "      <th>...</th>\n",
       "      <td>...</td>\n",
       "      <td>...</td>\n",
       "    </tr>\n",
       "    <tr>\n",
       "      <th>98</th>\n",
       "      <td>160</td>\n",
       "      <td>330</td>\n",
       "    </tr>\n",
       "    <tr>\n",
       "      <th>99</th>\n",
       "      <td>210</td>\n",
       "      <td>335</td>\n",
       "    </tr>\n",
       "    <tr>\n",
       "      <th>100</th>\n",
       "      <td>200</td>\n",
       "      <td>325</td>\n",
       "    </tr>\n",
       "    <tr>\n",
       "      <th>101</th>\n",
       "      <td>200</td>\n",
       "      <td>375</td>\n",
       "    </tr>\n",
       "    <tr>\n",
       "      <th>102</th>\n",
       "      <td>190</td>\n",
       "      <td>400</td>\n",
       "    </tr>\n",
       "  </tbody>\n",
       "</table>\n",
       "<p>103 rows × 2 columns</p>\n",
       "</div>"
      ],
      "text/plain": [
       "     TopSpeed_KmH  Range_Km\n",
       "0             233       450\n",
       "1             160       270\n",
       "2             210       400\n",
       "3             180       360\n",
       "4             145       170\n",
       "..            ...       ...\n",
       "98            160       330\n",
       "99            210       335\n",
       "100           200       325\n",
       "101           200       375\n",
       "102           190       400\n",
       "\n",
       "[103 rows x 2 columns]"
      ]
     },
     "execution_count": 21,
     "metadata": {},
     "output_type": "execute_result"
    }
   ],
   "source": [
    "#From the heatmap we can understand that from the features of an EV the range and top speed of a car has the highest positive coorelation\n",
    "x = df.iloc[:,[3,4]]\n",
    "x"
   ]
  },
  {
   "cell_type": "code",
   "execution_count": 22,
   "metadata": {},
   "outputs": [],
   "source": [
    "from sklearn.cluster import KMeans"
   ]
  },
  {
   "cell_type": "code",
   "execution_count": 23,
   "metadata": {},
   "outputs": [],
   "source": [
    "wcss = []\n",
    "k= np.arange(1,15)\n",
    "for i in k:\n",
    "    kmeans = KMeans(n_clusters=i, init='k-means++', random_state=45)\n",
    "    kmeans.fit(x)\n",
    "    wcss.append(kmeans.inertia_)\n",
    "\n",
    "\n"
   ]
  },
  {
   "cell_type": "code",
   "execution_count": 24,
   "metadata": {},
   "outputs": [
    {
     "data": {
      "image/png": "[encoded data removed]",
      "text/plain": [
       "<Figure size 1080x720 with 1 Axes>"
      ]
     },
     "metadata": {
      "needs_background": "light"
     },
     "output_type": "display_data"
    }
   ],
   "source": [
    "plt.figure(figsize=(15,10))\n",
    "plt.plot(k,wcss)\n",
    "plt.title(\"Elbow Method\")\n",
    "plt.xlabel(\"No. of Clusters(k)\")\n",
    "plt.ylabel(\"Sum of Squared Error(wcss)\")\n",
    "plt.show()\n"
   ]
  },
  {
   "cell_type": "code",
   "execution_count": 25,
   "metadata": {},
   "outputs": [
    {
     "data": {
      "text/plain": [
       "array([2, 1, 2, 5, 4, 0, 4, 1, 5, 2, 5, 1, 2, 2, 1, 2, 2, 4, 1, 4, 1, 2,\n",
       "       1, 2, 2, 2, 5, 5, 1, 1, 1, 5, 5, 0, 4, 5, 1, 2, 5, 5, 2, 1, 2, 4,\n",
       "       4, 5, 5, 2, 0, 5, 5, 3, 1, 2, 2, 4, 1, 4, 1, 2, 1, 2, 2, 5, 2, 2,\n",
       "       4, 2, 4, 2, 1, 2, 2, 2, 1, 1, 2, 4, 5, 2, 5, 2, 4, 5, 5, 1, 2, 5,\n",
       "       2, 5, 5, 4, 5, 2, 1, 5, 1, 5, 5, 5, 5, 5, 2])"
      ]
     },
     "execution_count": 25,
     "metadata": {},
     "output_type": "execute_result"
    }
   ],
   "source": [
    "#No. of clusters = 4\n",
    "kmeans = KMeans(n_clusters=6)\n",
    "x_predict = kmeans.fit_predict(x)\n",
    "x_predict\n",
    "\n"
   ]
  },
  {
   "cell_type": "code",
   "execution_count": 26,
   "metadata": {},
   "outputs": [
    {
     "data": {
      "text/html": [
       "<div>\n",
       "<style scoped>\n",
       "    .dataframe tbody tr th:only-of-type {\n",
       "        vertical-align: middle;\n",
       "    }\n",
       "\n",
       "    .dataframe tbody tr th {\n",
       "        vertical-align: top;\n",
       "    }\n",
       "\n",
       "    .dataframe thead th {\n",
       "        text-align: right;\n",
       "    }\n",
       "</style>\n",
       "<table border=\"1\" class=\"dataframe\">\n",
       "  <thead>\n",
       "    <tr style=\"text-align: right;\">\n",
       "      <th></th>\n",
       "      <th>Brand</th>\n",
       "      <th>Model</th>\n",
       "      <th>AccelSec</th>\n",
       "      <th>TopSpeed_KmH</th>\n",
       "      <th>Range_Km</th>\n",
       "      <th>Efficiency_WhKm</th>\n",
       "      <th>FastCharge_KmH</th>\n",
       "      <th>RapidCharge</th>\n",
       "      <th>PowerTrain</th>\n",
       "      <th>PlugType</th>\n",
       "      <th>BodyStyle</th>\n",
       "      <th>Segment</th>\n",
       "      <th>Seats</th>\n",
       "      <th>PriceEuro</th>\n",
       "      <th>cluster</th>\n",
       "    </tr>\n",
       "  </thead>\n",
       "  <tbody>\n",
       "    <tr>\n",
       "      <th>0</th>\n",
       "      <td>Tesla</td>\n",
       "      <td>Model 3 Long Range Dual Motor</td>\n",
       "      <td>4.6</td>\n",
       "      <td>233</td>\n",
       "      <td>450</td>\n",
       "      <td>161</td>\n",
       "      <td>940</td>\n",
       "      <td>1</td>\n",
       "      <td>AWD</td>\n",
       "      <td>Type 2 CCS</td>\n",
       "      <td>Sedan</td>\n",
       "      <td>D</td>\n",
       "      <td>5</td>\n",
       "      <td>55480</td>\n",
       "      <td>2</td>\n",
       "    </tr>\n",
       "    <tr>\n",
       "      <th>1</th>\n",
       "      <td>Volkswagen</td>\n",
       "      <td>ID.3 Pure</td>\n",
       "      <td>10.0</td>\n",
       "      <td>160</td>\n",
       "      <td>270</td>\n",
       "      <td>167</td>\n",
       "      <td>250</td>\n",
       "      <td>1</td>\n",
       "      <td>RWD</td>\n",
       "      <td>Type 2 CCS</td>\n",
       "      <td>Hatchback</td>\n",
       "      <td>C</td>\n",
       "      <td>5</td>\n",
       "      <td>30000</td>\n",
       "      <td>1</td>\n",
       "    </tr>\n",
       "    <tr>\n",
       "      <th>2</th>\n",
       "      <td>Polestar</td>\n",
       "      <td>2</td>\n",
       "      <td>4.7</td>\n",
       "      <td>210</td>\n",
       "      <td>400</td>\n",
       "      <td>181</td>\n",
       "      <td>620</td>\n",
       "      <td>1</td>\n",
       "      <td>AWD</td>\n",
       "      <td>Type 2 CCS</td>\n",
       "      <td>Liftback</td>\n",
       "      <td>D</td>\n",
       "      <td>5</td>\n",
       "      <td>56440</td>\n",
       "      <td>2</td>\n",
       "    </tr>\n",
       "    <tr>\n",
       "      <th>3</th>\n",
       "      <td>BMW</td>\n",
       "      <td>iX3</td>\n",
       "      <td>6.8</td>\n",
       "      <td>180</td>\n",
       "      <td>360</td>\n",
       "      <td>206</td>\n",
       "      <td>560</td>\n",
       "      <td>1</td>\n",
       "      <td>RWD</td>\n",
       "      <td>Type 2 CCS</td>\n",
       "      <td>SUV</td>\n",
       "      <td>D</td>\n",
       "      <td>5</td>\n",
       "      <td>68040</td>\n",
       "      <td>5</td>\n",
       "    </tr>\n",
       "    <tr>\n",
       "      <th>4</th>\n",
       "      <td>Honda</td>\n",
       "      <td>e</td>\n",
       "      <td>9.5</td>\n",
       "      <td>145</td>\n",
       "      <td>170</td>\n",
       "      <td>168</td>\n",
       "      <td>190</td>\n",
       "      <td>1</td>\n",
       "      <td>RWD</td>\n",
       "      <td>Type 2 CCS</td>\n",
       "      <td>Hatchback</td>\n",
       "      <td>B</td>\n",
       "      <td>4</td>\n",
       "      <td>32997</td>\n",
       "      <td>4</td>\n",
       "    </tr>\n",
       "    <tr>\n",
       "      <th>...</th>\n",
       "      <td>...</td>\n",
       "      <td>...</td>\n",
       "      <td>...</td>\n",
       "      <td>...</td>\n",
       "      <td>...</td>\n",
       "      <td>...</td>\n",
       "      <td>...</td>\n",
       "      <td>...</td>\n",
       "      <td>...</td>\n",
       "      <td>...</td>\n",
       "      <td>...</td>\n",
       "      <td>...</td>\n",
       "      <td>...</td>\n",
       "      <td>...</td>\n",
       "      <td>...</td>\n",
       "    </tr>\n",
       "    <tr>\n",
       "      <th>98</th>\n",
       "      <td>Nissan</td>\n",
       "      <td>Ariya 63kWh</td>\n",
       "      <td>7.5</td>\n",
       "      <td>160</td>\n",
       "      <td>330</td>\n",
       "      <td>191</td>\n",
       "      <td>440</td>\n",
       "      <td>1</td>\n",
       "      <td>FWD</td>\n",
       "      <td>Type 2 CCS</td>\n",
       "      <td>Hatchback</td>\n",
       "      <td>C</td>\n",
       "      <td>5</td>\n",
       "      <td>45000</td>\n",
       "      <td>5</td>\n",
       "    </tr>\n",
       "    <tr>\n",
       "      <th>99</th>\n",
       "      <td>Audi</td>\n",
       "      <td>e-tron S Sportback 55 quattro</td>\n",
       "      <td>4.5</td>\n",
       "      <td>210</td>\n",
       "      <td>335</td>\n",
       "      <td>258</td>\n",
       "      <td>540</td>\n",
       "      <td>1</td>\n",
       "      <td>AWD</td>\n",
       "      <td>Type 2 CCS</td>\n",
       "      <td>SUV</td>\n",
       "      <td>E</td>\n",
       "      <td>5</td>\n",
       "      <td>96050</td>\n",
       "      <td>5</td>\n",
       "    </tr>\n",
       "    <tr>\n",
       "      <th>100</th>\n",
       "      <td>Nissan</td>\n",
       "      <td>Ariya e-4ORCE 63kWh</td>\n",
       "      <td>5.9</td>\n",
       "      <td>200</td>\n",
       "      <td>325</td>\n",
       "      <td>194</td>\n",
       "      <td>440</td>\n",
       "      <td>1</td>\n",
       "      <td>AWD</td>\n",
       "      <td>Type 2 CCS</td>\n",
       "      <td>Hatchback</td>\n",
       "      <td>C</td>\n",
       "      <td>5</td>\n",
       "      <td>50000</td>\n",
       "      <td>5</td>\n",
       "    </tr>\n",
       "    <tr>\n",
       "      <th>101</th>\n",
       "      <td>Nissan</td>\n",
       "      <td>Ariya e-4ORCE 87kWh Performance</td>\n",
       "      <td>5.1</td>\n",
       "      <td>200</td>\n",
       "      <td>375</td>\n",
       "      <td>232</td>\n",
       "      <td>450</td>\n",
       "      <td>1</td>\n",
       "      <td>AWD</td>\n",
       "      <td>Type 2 CCS</td>\n",
       "      <td>Hatchback</td>\n",
       "      <td>C</td>\n",
       "      <td>5</td>\n",
       "      <td>65000</td>\n",
       "      <td>5</td>\n",
       "    </tr>\n",
       "    <tr>\n",
       "      <th>102</th>\n",
       "      <td>Byton</td>\n",
       "      <td>M-Byte 95 kWh 2WD</td>\n",
       "      <td>7.5</td>\n",
       "      <td>190</td>\n",
       "      <td>400</td>\n",
       "      <td>238</td>\n",
       "      <td>480</td>\n",
       "      <td>1</td>\n",
       "      <td>AWD</td>\n",
       "      <td>Type 2 CCS</td>\n",
       "      <td>SUV</td>\n",
       "      <td>E</td>\n",
       "      <td>5</td>\n",
       "      <td>62000</td>\n",
       "      <td>2</td>\n",
       "    </tr>\n",
       "  </tbody>\n",
       "</table>\n",
       "<p>103 rows × 15 columns</p>\n",
       "</div>"
      ],
      "text/plain": [
       "           Brand                            Model  AccelSec  TopSpeed_KmH  \\\n",
       "0         Tesla     Model 3 Long Range Dual Motor       4.6           233   \n",
       "1    Volkswagen                         ID.3 Pure      10.0           160   \n",
       "2      Polestar                                 2       4.7           210   \n",
       "3           BMW                              iX3        6.8           180   \n",
       "4         Honda                                e        9.5           145   \n",
       "..           ...                              ...       ...           ...   \n",
       "98       Nissan                       Ariya 63kWh       7.5           160   \n",
       "99         Audi     e-tron S Sportback 55 quattro       4.5           210   \n",
       "100      Nissan               Ariya e-4ORCE 63kWh       5.9           200   \n",
       "101      Nissan   Ariya e-4ORCE 87kWh Performance       5.1           200   \n",
       "102       Byton                 M-Byte 95 kWh 2WD       7.5           190   \n",
       "\n",
       "     Range_Km  Efficiency_WhKm FastCharge_KmH  RapidCharge PowerTrain  \\\n",
       "0         450              161            940            1        AWD   \n",
       "1         270              167            250            1        RWD   \n",
       "2         400              181            620            1        AWD   \n",
       "3         360              206            560            1        RWD   \n",
       "4         170              168            190            1        RWD   \n",
       "..        ...              ...            ...          ...        ...   \n",
       "98        330              191            440            1        FWD   \n",
       "99        335              258            540            1        AWD   \n",
       "100       325              194            440            1        AWD   \n",
       "101       375              232            450            1        AWD   \n",
       "102       400              238            480            1        AWD   \n",
       "\n",
       "       PlugType  BodyStyle Segment  Seats  PriceEuro  cluster  \n",
       "0    Type 2 CCS      Sedan       D      5      55480        2  \n",
       "1    Type 2 CCS  Hatchback       C      5      30000        1  \n",
       "2    Type 2 CCS   Liftback       D      5      56440        2  \n",
       "3    Type 2 CCS        SUV       D      5      68040        5  \n",
       "4    Type 2 CCS  Hatchback       B      4      32997        4  \n",
       "..          ...        ...     ...    ...        ...      ...  \n",
       "98   Type 2 CCS  Hatchback       C      5      45000        5  \n",
       "99   Type 2 CCS        SUV       E      5      96050        5  \n",
       "100  Type 2 CCS  Hatchback       C      5      50000        5  \n",
       "101  Type 2 CCS  Hatchback       C      5      65000        5  \n",
       "102  Type 2 CCS        SUV       E      5      62000        2  \n",
       "\n",
       "[103 rows x 15 columns]"
      ]
     },
     "execution_count": 26,
     "metadata": {},
     "output_type": "execute_result"
    }
   ],
   "source": [
    "df['cluster'] = x_predict\n",
    "df"
   ]
  },
  {
   "cell_type": "code",
   "execution_count": 27,
   "metadata": {},
   "outputs": [
    {
     "data": {
      "text/plain": [
       "array([[203.33333333, 645.        ],\n",
       "       [153.22727273, 250.90909091],\n",
       "       [207.64705882, 421.17647059],\n",
       "       [410.        , 970.        ],\n",
       "       [136.28571429, 160.71428571],\n",
       "       [175.79310345, 341.37931034]])"
      ]
     },
     "execution_count": 27,
     "metadata": {},
     "output_type": "execute_result"
    }
   ],
   "source": [
    "kmeans.cluster_centers_"
   ]
  },
  {
   "cell_type": "code",
   "execution_count": 28,
   "metadata": {},
   "outputs": [
    {
     "data": {
      "image/png": "[encoded data removed]",
      "text/plain": [
       "<Figure size 1080x720 with 1 Axes>"
      ]
     },
     "metadata": {
      "needs_background": "light"
     },
     "output_type": "display_data"
    }
   ],
   "source": [
    "df1 = df[df.cluster==0]\n",
    "df2 = df[df.cluster==1]\n",
    "df3 = df[df.cluster==2]\n",
    "df4 = df[df.cluster==3]\n",
    "df5 = df[df.cluster==4]\n",
    "df6 = df[df.cluster==5]\n",
    "\n",
    "plt.figure(figsize=(15,10))\n",
    "plt.scatter(df1['TopSpeed_KmH'],df1['Range_Km'],color='green')\n",
    "plt.scatter(df2['TopSpeed_KmH'],df2['Range_Km'],color='red')\n",
    "plt.scatter(df3['TopSpeed_KmH'],df3['Range_Km'],color='black')\n",
    "plt.scatter(df4['TopSpeed_KmH'],df4['Range_Km'],color='blue')\n",
    "plt.scatter(df5['TopSpeed_KmH'],df5['Range_Km'],color='magenta')\n",
    "plt.scatter(df6['TopSpeed_KmH'],df6['Range_Km'],color='blue')\n",
    "plt.scatter(kmeans.cluster_centers_[:,0],kmeans.cluster_centers_[:,1],color = 'purple',marker='*',label='centroid')\n",
    "plt.legend()\n",
    "plt.show()\n",
    "\n",
    "\n"
   ]
  },
  {
   "cell_type": "code",
   "execution_count": null,
   "metadata": {},
   "outputs": [],
   "source": []
  }
 ],
 "metadata": {
  "kernelspec": {
   "display_name": "Python 3 (ipykernel)",
   "language": "python",
   "name": "python3"
  },
  "language_info": {
   "codemirror_mode": {
    "name": "ipython",
    "version": 3
   },
   "file_extension": ".py",
   "mimetype": "text/x-python",
   "name": "python",
   "nbconvert_exporter": "python",
   "pygments_lexer": "ipython3",
   "version": "3.9.7"
  },
  "vscode": {
   "interpreter": {
    "hash": "5f4ba07150852e74fa74847117914c0a19f8ec002575f8d4b1c0a9de9f55c374"
   }
  }
 },
 "nbformat": 4,
 "nbformat_minor": 2
}
